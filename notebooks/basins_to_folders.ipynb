{
 "cells": [
  {
   "cell_type": "code",
   "execution_count": 1,
   "metadata": {},
   "outputs": [],
   "source": [
    "import os\n",
    "import shutil"
   ]
  },
  {
   "cell_type": "code",
   "execution_count": 2,
   "metadata": {},
   "outputs": [],
   "source": [
    "files = sorted(os.listdir(\"../prepared_shapefiles\"))\n",
    "files = [f\"{file.split('_')[0]}.{file.split('.')[-1]}\" for file in files]"
   ]
  },
  {
   "cell_type": "code",
   "execution_count": 5,
   "metadata": {},
   "outputs": [],
   "source": [
    "for file in files:\n",
    "    if not os.path.exists(os.path.join(\"../prepared_shapefiles\", file.split('.')[0])):\n",
    "        os.mkdir(os.path.join(\"../prepared_shapefiles\", file.split('.')[0]))\n",
    "\n",
    "    shutil.move(os.path.join(\"../prepared_shapefiles\", f\"{file.split('.')[0]}_cleaned.{file.split('.')[-1]}\"), os.path.join(\"../prepared_shapefiles\", file.split('.')[0], file))"
   ]
  }
 ],
 "metadata": {
  "kernelspec": {
   "display_name": ".venv",
   "language": "python",
   "name": "python3"
  },
  "language_info": {
   "codemirror_mode": {
    "name": "ipython",
    "version": 3
   },
   "file_extension": ".py",
   "mimetype": "text/x-python",
   "name": "python",
   "nbconvert_exporter": "python",
   "pygments_lexer": "ipython3",
   "version": "3.10.12"
  }
 },
 "nbformat": 4,
 "nbformat_minor": 2
}
