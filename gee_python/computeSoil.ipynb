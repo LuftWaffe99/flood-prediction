{
 "cells": [
  {
   "cell_type": "code",
   "execution_count": 29,
   "metadata": {},
   "outputs": [
    {
     "data": {
      "text/html": [
       "\n",
       "            <style>\n",
       "                .geemap-dark {\n",
       "                    --jp-widgets-color: white;\n",
       "                    --jp-widgets-label-color: white;\n",
       "                    --jp-ui-font-color1: white;\n",
       "                    --jp-layout-color2: #454545;\n",
       "                    background-color: #383838;\n",
       "                }\n",
       "\n",
       "                .geemap-dark .jupyter-button {\n",
       "                    --jp-layout-color3: #383838;\n",
       "                }\n",
       "\n",
       "                .geemap-colab {\n",
       "                    background-color: var(--colab-primary-surface-color, white);\n",
       "                }\n",
       "\n",
       "                .geemap-colab .jupyter-button {\n",
       "                    --jp-layout-color3: var(--colab-primary-surface-color, white);\n",
       "                }\n",
       "            </style>\n",
       "            "
      ],
      "text/plain": [
       "<IPython.core.display.HTML object>"
      ]
     },
     "metadata": {},
     "output_type": "display_data"
    },
    {
     "name": "stderr",
     "output_type": "stream",
     "text": [
      "  5%|▍         | 5/106 [00:13<04:24,  2.62s/it]"
     ]
    },
    {
     "name": "stdout",
     "output_type": "stream",
     "text": [
      "       clay_frac  sand_frac  silt_frac  max_water_content  \\\n",
      "11001  23.345682  38.817805  37.836453           0.502900   \n",
      "11063  27.147091  32.158609  40.693808           0.463900   \n",
      "11068  26.701544  32.620575  40.677890           0.491767   \n",
      "11077  25.943500  32.035946  42.020544           0.481850   \n",
      "11090  28.246429  43.319380  28.435229           0.483267   \n",
      "\n",
      "       hydraulic_conductivity  \n",
      "11001               11.175124  \n",
      "11063                5.591396  \n",
      "11068                5.245892  \n",
      "11077                6.615107  \n",
      "11090                9.291496  \n"
     ]
    },
    {
     "name": "stderr",
     "output_type": "stream",
     "text": [
      "\n"
     ]
    }
   ],
   "source": [
    "from pathlib import Path\n",
    "import numpy as np\n",
    "import pandas as pd\n",
    "import os\n",
    "import ee\n",
    "from typing import Dict, List, Tuple\n",
    "from tqdm import tqdm\n",
    "from utils import extractROI\n",
    "\n",
    "# Authenticate and initialize the GEE\n",
    "ee.Authenticate()\n",
    "ee.Initialize(project=\"virtual-rarity-426212-p6\")\n",
    "\n",
    "ASSET_FOLDER = \"projects/virtual-rarity-426212-p6/assets/shapefiles\"\n",
    "\n",
    "class SoilMetrics:\n",
    "    \n",
    "    def __init__(self, asset_fldr: str):\n",
    "        self.roi_lst, self.basin_names = extractROI(asset_fldr)\n",
    "        self.clay_data = ee.Image(\"projects/soilgrids-isric/clay_mean\")\n",
    "        self.sand_data = ee.Image(\"projects/soilgrids-isric/sand_mean\")\n",
    "        self.silt_data = ee.Image(\"projects/soilgrids-isric/silt_mean\")\n",
    "        self.water_content = ee.ImageCollection(\"projects/sat-io/open-datasets/HiHydroSoilv2_0/wcsat\")\n",
    "        self.ksat_data = ee.ImageCollection(\"projects/sat-io/open-datasets/HiHydroSoilv2_0/ksat\")\n",
    "        \n",
    "    def _computeOneSoilStat(self, roi: ee.Geometry):\n",
    "        \n",
    "        clay_stats = self.clay_data.clip(roi).reduceRegion(\n",
    "            reducer=ee.Reducer.mean(),\n",
    "            geometry=roi, \n",
    "            scale=250,\n",
    "            maxPixels=1e9\n",
    "        ).getInfo()\n",
    "        \n",
    "        sand_stats = self.sand_data.clip(roi).reduceRegion(\n",
    "            reducer=ee.Reducer.mean(),\n",
    "            geometry=roi, \n",
    "            scale=250,\n",
    "            maxPixels=1e9\n",
    "        ).getInfo()\n",
    "        \n",
    "        silt_stats = self.silt_data.clip(roi).reduceRegion(\n",
    "            reducer=ee.Reducer.mean(),\n",
    "            geometry=roi, \n",
    "            scale=250,\n",
    "            maxPixels=1e9\n",
    "        ).getInfo()\n",
    "        \n",
    "        max_water_content = self.water_content.reduce(ee.Reducer.mean()).reduceRegion(\n",
    "            reducer=ee.Reducer.max(),\n",
    "            geometry=roi,\n",
    "            scale=250,\n",
    "            maxPixels=1e9\n",
    "        ).getInfo()\n",
    "\n",
    "        \n",
    "        ksat_stats = self.ksat_data.reduce(ee.Reducer.mean()).reduceRegion(\n",
    "            reducer=ee.Reducer.mean(),\n",
    "            geometry=roi, \n",
    "            scale=250,\n",
    "            maxPixels=1e9\n",
    "        ).getInfo()\n",
    "        \n",
    "        ksat_value = list(ksat_stats.values())[0]\n",
    "        max_water_content_value = list(max_water_content.values())[0] / 10000 \n",
    "\n",
    "        return (\n",
    "            clay_stats['clay_0-5cm_mean'] / 10, \n",
    "            sand_stats['sand_0-5cm_mean'] / 10, \n",
    "            silt_stats['silt_0-5cm_mean'] / 10,\n",
    "            max_water_content_value,\n",
    "            ksat_value/24000\n",
    "            )\n",
    "        \n",
    "    def computeAllSoilStats(self):\n",
    "        \n",
    "        table = {\"clay_frac\": [], \"sand_frac\": [], \"silt_frac\": [], \n",
    "                 \"max_water_content\": [], \"hydraulic_conductivity\": []}\n",
    "        bar_format = '{l_bar}{bar}| {n_fmt}/{total_fmt} [{elapsed}<{remaining}, {rate_fmt}]'\n",
    "        \n",
    "        for idx, roi in enumerate(tqdm(self.roi_lst, bar_format=bar_format)):\n",
    "            \n",
    "            if idx == 5:\n",
    "                break\n",
    "            \n",
    "            clay_stats, sand_stats, silt_stats, water_cnt, ksat_value = self._computeOneSoilStat(roi)\n",
    "            \n",
    "            table['clay_frac'].append(clay_stats)\n",
    "            table['sand_frac'].append(sand_stats)\n",
    "            table['silt_frac'].append(silt_stats)\n",
    "            table['max_water_content'].append(water_cnt)\n",
    "            table['hydraulic_conductivity'].append(ksat_value)\n",
    "            \n",
    "        dataframe = pd.DataFrame(table, index=self.basin_names[:5])\n",
    "        return dataframe\n",
    "\n",
    "\n",
    "\n"
   ]
  }
 ],
 "metadata": {
  "kernelspec": {
   "display_name": "hydrology",
   "language": "python",
   "name": "python3"
  },
  "language_info": {
   "codemirror_mode": {
    "name": "ipython",
    "version": 3
   },
   "file_extension": ".py",
   "mimetype": "text/x-python",
   "name": "python",
   "nbconvert_exporter": "python",
   "pygments_lexer": "ipython3",
   "version": "3.11.7"
  }
 },
 "nbformat": 4,
 "nbformat_minor": 2
}
