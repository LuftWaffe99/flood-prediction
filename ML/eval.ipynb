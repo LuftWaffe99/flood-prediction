{
 "cells": [
  {
   "cell_type": "code",
   "execution_count": 1,
   "metadata": {},
   "outputs": [],
   "source": [
    "import os\n",
    "import json\n",
    "from pathlib import Path\n",
    "\n",
    "import pandas as pd\n",
    "\n",
    "from neuralhydrology.nh_run import eval_run"
   ]
  },
  {
   "cell_type": "code",
   "execution_count": 2,
   "metadata": {},
   "outputs": [],
   "source": [
    "# load allowed GPU ids\n",
    "f = open(\"gpu.json\")\n",
    "gpus = json.load(f)\n",
    "f.close()"
   ]
  },
  {
   "cell_type": "code",
   "execution_count": 3,
   "metadata": {},
   "outputs": [],
   "source": [
    "epoch = 20\n",
    "epoch_str = str(epoch) if epoch / 100 > 1 else f\"0{epoch}\""
   ]
  },
  {
   "cell_type": "code",
   "execution_count": 4,
   "metadata": {},
   "outputs": [],
   "source": [
    "run_dir = Path(f\"./runs/{sorted(os.listdir('./runs'))[-1]}\")"
   ]
  },
  {
   "cell_type": "code",
   "execution_count": 5,
   "metadata": {},
   "outputs": [],
   "source": [
    "def eval_results(period: str, epoch: str = \"010\") -> pd.DataFrame:\n",
    "    df = pd.read_csv(run_dir / f\"{period}\" / f\"model_epoch{epoch}\" / f\"{period}_metrics.csv\", dtype={'basin': str})\n",
    "    df = df.set_index('basin')\n",
    "\n",
    "    # Compute the median NSE from all basins, where discharge observations are available for that period\n",
    "    print(f\"Median NSE of the {period} period {df['NSE'].median():.3f}\")\n",
    "    print(f\"Mean NSE of the {period} period {df['NSE'].mean():.3f}\")\n",
    "    \n",
    "    return df"
   ]
  },
  {
   "cell_type": "code",
   "execution_count": 6,
   "metadata": {},
   "outputs": [
    {
     "name": "stdout",
     "output_type": "stream",
     "text": [
      "# Evaluation:  19%|█▉        | 8/42 [00:13<00:51,  1.53s/it]"
     ]
    },
    {
     "name": "stderr",
     "output_type": "stream",
     "text": [
      "Basin 11397 All simulated values are NaN, thus metrics will be NaN, too.\n"
     ]
    },
    {
     "name": "stdout",
     "output_type": "stream",
     "text": [
      "# Evaluation:  40%|████      | 17/42 [00:24<00:35,  1.43s/it]"
     ]
    },
    {
     "name": "stderr",
     "output_type": "stream",
     "text": [
      "Basin 13002 All simulated values are NaN, thus metrics will be NaN, too.\n"
     ]
    },
    {
     "name": "stdout",
     "output_type": "stream",
     "text": [
      "# Evaluation:  43%|████▎     | 18/42 [00:26<00:35,  1.48s/it]"
     ]
    },
    {
     "name": "stderr",
     "output_type": "stream",
     "text": [
      "Basin 13005 All simulated values are NaN, thus metrics will be NaN, too.\n"
     ]
    },
    {
     "name": "stdout",
     "output_type": "stream",
     "text": [
      "# Evaluation:  45%|████▌     | 19/42 [00:29<00:46,  2.00s/it]"
     ]
    },
    {
     "name": "stderr",
     "output_type": "stream",
     "text": [
      "The following basins had not enough valid target values to calculate a standard deviation: 13035. NSE loss values for this basin will be NaN.\n"
     ]
    },
    {
     "name": "stdout",
     "output_type": "stream",
     "text": [
      "# Evaluation:  60%|█████▉    | 25/42 [00:39<00:27,  1.59s/it]"
     ]
    },
    {
     "name": "stderr",
     "output_type": "stream",
     "text": [
      "Basin 13115 All simulated values are NaN, thus metrics will be NaN, too.\n"
     ]
    },
    {
     "name": "stdout",
     "output_type": "stream",
     "text": [
      "# Evaluation:  67%|██████▋   | 28/42 [00:46<00:30,  2.19s/it]"
     ]
    },
    {
     "name": "stderr",
     "output_type": "stream",
     "text": [
      "The following basins had not enough valid target values to calculate a standard deviation: 19013. NSE loss values for this basin will be NaN.\n"
     ]
    },
    {
     "name": "stdout",
     "output_type": "stream",
     "text": [
      "# Evaluation:  83%|████████▎ | 35/42 [00:54<00:07,  1.09s/it]"
     ]
    },
    {
     "name": "stderr",
     "output_type": "stream",
     "text": [
      "Basin 19243 All simulated values are NaN, thus metrics will be NaN, too.\n"
     ]
    },
    {
     "name": "stdout",
     "output_type": "stream",
     "text": [
      "# Evaluation: 100%|██████████| 42/42 [01:05<00:00,  1.55s/it]\n",
      "Median NSE of the train period -64936.520\n",
      "Mean NSE of the train period -269724.880\n"
     ]
    }
   ],
   "source": [
    "eval_run(run_dir, period=\"train\", epoch=epoch, gpu=gpus[0])\n",
    "df_train = eval_results(\"train\", epoch=epoch_str)"
   ]
  },
  {
   "cell_type": "code",
   "execution_count": 7,
   "metadata": {},
   "outputs": [
    {
     "name": "stdout",
     "output_type": "stream",
     "text": [
      "# Validation:  10%|▉         | 4/42 [00:00<00:09,  4.13it/s]"
     ]
    },
    {
     "name": "stderr",
     "output_type": "stream",
     "text": [
      "The following basins had not enough valid target values to calculate a standard deviation: 11163. NSE loss values for this basin will be NaN.\n"
     ]
    },
    {
     "name": "stdout",
     "output_type": "stream",
     "text": [
      "# Validation:  19%|█▉        | 8/42 [00:02<00:09,  3.77it/s]"
     ]
    },
    {
     "name": "stderr",
     "output_type": "stream",
     "text": [
      "Basin 11397 All simulated values are NaN, thus metrics will be NaN, too.\n"
     ]
    },
    {
     "name": "stdout",
     "output_type": "stream",
     "text": [
      "# Validation:  45%|████▌     | 19/42 [00:05<00:05,  4.06it/s]"
     ]
    },
    {
     "name": "stderr",
     "output_type": "stream",
     "text": [
      "The following basins had not enough valid target values to calculate a standard deviation: 13035. NSE loss values for this basin will be NaN.\n"
     ]
    },
    {
     "name": "stdout",
     "output_type": "stream",
     "text": [
      "# Validation:  60%|█████▉    | 25/42 [00:06<00:04,  3.79it/s]"
     ]
    },
    {
     "name": "stderr",
     "output_type": "stream",
     "text": [
      "Basin 13115 All simulated values are NaN, thus metrics will be NaN, too.\n"
     ]
    },
    {
     "name": "stdout",
     "output_type": "stream",
     "text": [
      "# Validation:  67%|██████▋   | 28/42 [00:07<00:04,  3.29it/s]"
     ]
    },
    {
     "name": "stderr",
     "output_type": "stream",
     "text": [
      "The following basins had not enough valid target values to calculate a standard deviation: 19013. NSE loss values for this basin will be NaN.\n"
     ]
    },
    {
     "name": "stdout",
     "output_type": "stream",
     "text": [
      "# Validation: 100%|██████████| 42/42 [00:11<00:00,  3.60it/s]\n",
      "Median NSE of the validation period -60674.793\n",
      "Mean NSE of the validation period -505097.116\n"
     ]
    }
   ],
   "source": [
    "eval_run(run_dir, period=\"validation\", epoch=epoch, gpu=gpus[0])\n",
    "df_val = eval_results(\"validation\", epoch=epoch_str)"
   ]
  },
  {
   "cell_type": "code",
   "execution_count": 8,
   "metadata": {},
   "outputs": [
    {
     "name": "stdout",
     "output_type": "stream",
     "text": [
      "# Evaluation:   0%|          | 0/42 [00:00<?, ?it/s]"
     ]
    },
    {
     "name": "stdout",
     "output_type": "stream",
     "text": [
      "# Evaluation:  10%|▉         | 4/42 [00:00<00:08,  4.68it/s]"
     ]
    },
    {
     "name": "stderr",
     "output_type": "stream",
     "text": [
      "The following basins had not enough valid target values to calculate a standard deviation: 11163. NSE loss values for this basin will be NaN.\n"
     ]
    },
    {
     "name": "stdout",
     "output_type": "stream",
     "text": [
      "# Evaluation:  19%|█▉        | 8/42 [00:02<00:08,  3.87it/s]"
     ]
    },
    {
     "name": "stderr",
     "output_type": "stream",
     "text": [
      "Basin 11397 All simulated values are NaN, thus metrics will be NaN, too.\n"
     ]
    },
    {
     "name": "stdout",
     "output_type": "stream",
     "text": [
      "# Evaluation:  45%|████▌     | 19/42 [00:05<00:06,  3.71it/s]"
     ]
    },
    {
     "name": "stderr",
     "output_type": "stream",
     "text": [
      "The following basins had not enough valid target values to calculate a standard deviation: 13035. NSE loss values for this basin will be NaN.\n"
     ]
    },
    {
     "name": "stdout",
     "output_type": "stream",
     "text": [
      "# Evaluation:  60%|█████▉    | 25/42 [00:06<00:04,  4.03it/s]"
     ]
    },
    {
     "name": "stderr",
     "output_type": "stream",
     "text": [
      "Basin 13115 All simulated values are NaN, thus metrics will be NaN, too.\n"
     ]
    },
    {
     "name": "stdout",
     "output_type": "stream",
     "text": [
      "# Evaluation:  62%|██████▏   | 26/42 [00:07<00:04,  3.52it/s]"
     ]
    },
    {
     "name": "stderr",
     "output_type": "stream",
     "text": [
      "Basin 13128 All simulated values are NaN, thus metrics will be NaN, too.\n"
     ]
    },
    {
     "name": "stdout",
     "output_type": "stream",
     "text": [
      "# Evaluation:  67%|██████▋   | 28/42 [00:07<00:04,  3.38it/s]"
     ]
    },
    {
     "name": "stderr",
     "output_type": "stream",
     "text": [
      "The following basins had not enough valid target values to calculate a standard deviation: 19013. NSE loss values for this basin will be NaN.\n"
     ]
    },
    {
     "name": "stdout",
     "output_type": "stream",
     "text": [
      "# Evaluation: 100%|██████████| 42/42 [00:11<00:00,  3.67it/s]\n",
      "Median NSE of the test period -267570.570\n",
      "Mean NSE of the test period -337420976.639\n"
     ]
    }
   ],
   "source": [
    "eval_run(run_dir, period=\"test\", epoch=epoch, gpu=gpus[0])\n",
    "df_test = eval_results(\"test\", epoch=epoch_str)"
   ]
  },
  {
   "cell_type": "code",
   "execution_count": 9,
   "metadata": {},
   "outputs": [],
   "source": [
    "df_train = df_train.rename(columns={\"NSE\": \"NSE_train\", \"KGE\": \"KGE_train\"})\n",
    "df_val = df_val.rename(columns={\"NSE\": \"NSE_val\", \"KGE\": \"KGE_val\"})\n",
    "df_test = df_test.rename(columns={\"NSE\": \"NSE_test\", \"KGE\": \"KGE_test\"})"
   ]
  },
  {
   "cell_type": "code",
   "execution_count": 10,
   "metadata": {},
   "outputs": [
    {
     "data": {
      "text/html": [
       "<div>\n",
       "<style scoped>\n",
       "    .dataframe tbody tr th:only-of-type {\n",
       "        vertical-align: middle;\n",
       "    }\n",
       "\n",
       "    .dataframe tbody tr th {\n",
       "        vertical-align: top;\n",
       "    }\n",
       "\n",
       "    .dataframe thead th {\n",
       "        text-align: right;\n",
       "    }\n",
       "</style>\n",
       "<table border=\"1\" class=\"dataframe\">\n",
       "  <thead>\n",
       "    <tr style=\"text-align: right;\">\n",
       "      <th></th>\n",
       "      <th>NSE_train</th>\n",
       "      <th>KGE_train</th>\n",
       "      <th>NSE_val</th>\n",
       "      <th>KGE_val</th>\n",
       "      <th>NSE_test</th>\n",
       "      <th>KGE_test</th>\n",
       "    </tr>\n",
       "    <tr>\n",
       "      <th>basin</th>\n",
       "      <th></th>\n",
       "      <th></th>\n",
       "      <th></th>\n",
       "      <th></th>\n",
       "      <th></th>\n",
       "      <th></th>\n",
       "    </tr>\n",
       "  </thead>\n",
       "  <tbody>\n",
       "    <tr>\n",
       "      <th>11001</th>\n",
       "      <td>-19574.519531</td>\n",
       "      <td>-159.382336</td>\n",
       "      <td>-14028.236328</td>\n",
       "      <td>-124.936326</td>\n",
       "      <td>-53263.722656</td>\n",
       "      <td>-186.224799</td>\n",
       "    </tr>\n",
       "    <tr>\n",
       "      <th>11068</th>\n",
       "      <td>-54114.101562</td>\n",
       "      <td>-167.558446</td>\n",
       "      <td>-60674.792969</td>\n",
       "      <td>-193.622422</td>\n",
       "      <td>-80188.343750</td>\n",
       "      <td>-163.476423</td>\n",
       "    </tr>\n",
       "    <tr>\n",
       "      <th>11126</th>\n",
       "      <td>-1138.022949</td>\n",
       "      <td>-35.941900</td>\n",
       "      <td>-1181.884766</td>\n",
       "      <td>-34.458181</td>\n",
       "      <td>-2102.470947</td>\n",
       "      <td>-39.715560</td>\n",
       "    </tr>\n",
       "    <tr>\n",
       "      <th>11129</th>\n",
       "      <td>-707.492615</td>\n",
       "      <td>-30.040096</td>\n",
       "      <td>-848.496338</td>\n",
       "      <td>-31.677659</td>\n",
       "      <td>-1340.977661</td>\n",
       "      <td>-38.917803</td>\n",
       "    </tr>\n",
       "    <tr>\n",
       "      <th>11163</th>\n",
       "      <td>-125.740479</td>\n",
       "      <td>-9.905895</td>\n",
       "      <td>NaN</td>\n",
       "      <td>NaN</td>\n",
       "      <td>NaN</td>\n",
       "      <td>NaN</td>\n",
       "    </tr>\n",
       "  </tbody>\n",
       "</table>\n",
       "</div>"
      ],
      "text/plain": [
       "          NSE_train   KGE_train       NSE_val     KGE_val      NSE_test  \\\n",
       "basin                                                                     \n",
       "11001 -19574.519531 -159.382336 -14028.236328 -124.936326 -53263.722656   \n",
       "11068 -54114.101562 -167.558446 -60674.792969 -193.622422 -80188.343750   \n",
       "11126  -1138.022949  -35.941900  -1181.884766  -34.458181  -2102.470947   \n",
       "11129   -707.492615  -30.040096   -848.496338  -31.677659  -1340.977661   \n",
       "11163   -125.740479   -9.905895           NaN         NaN           NaN   \n",
       "\n",
       "         KGE_test  \n",
       "basin              \n",
       "11001 -186.224799  \n",
       "11068 -163.476423  \n",
       "11126  -39.715560  \n",
       "11129  -38.917803  \n",
       "11163         NaN  "
      ]
     },
     "execution_count": 10,
     "metadata": {},
     "output_type": "execute_result"
    }
   ],
   "source": [
    "df_tmp = pd.merge(df_train, df_val, left_index=True, right_index=True)\n",
    "df = pd.merge(df_tmp, df_test, left_index=True, right_index=True)\n",
    "df.head()"
   ]
  },
  {
   "cell_type": "markdown",
   "metadata": {},
   "source": [
    "File will be saved in the current runs directory"
   ]
  },
  {
   "cell_type": "code",
   "execution_count": 11,
   "metadata": {},
   "outputs": [],
   "source": [
    "df.to_csv(f\"{str(run_dir)}/eval.csv\")"
   ]
  }
 ],
 "metadata": {
  "kernelspec": {
   "display_name": ".venv",
   "language": "python",
   "name": "python3"
  },
  "language_info": {
   "codemirror_mode": {
    "name": "ipython",
    "version": 3
   },
   "file_extension": ".py",
   "mimetype": "text/x-python",
   "name": "python",
   "nbconvert_exporter": "python",
   "pygments_lexer": "ipython3",
   "version": "3.10.12"
  }
 },
 "nbformat": 4,
 "nbformat_minor": 2
}
