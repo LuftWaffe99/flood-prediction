{
 "cells": [
  {
   "cell_type": "code",
   "execution_count": 7,
   "metadata": {},
   "outputs": [],
   "source": [
    "import os\n",
    "import json\n",
    "from pathlib import Path\n",
    "\n",
    "import pandas as pd\n",
    "\n",
    "from neuralhydrology.nh_run import eval_run"
   ]
  },
  {
   "cell_type": "code",
   "execution_count": 8,
   "metadata": {},
   "outputs": [],
   "source": [
    "# load allowed GPU ids\n",
    "f = open(\"gpu.json\")\n",
    "gpus = json.load(f)\n",
    "f.close()"
   ]
  },
  {
   "cell_type": "code",
   "execution_count": 9,
   "metadata": {},
   "outputs": [],
   "source": [
    "epoch = 19\n",
    "epoch_str = str(epoch) if epoch / 100 > 1 else f\"0{epoch}\""
   ]
  },
  {
   "cell_type": "code",
   "execution_count": 10,
   "metadata": {},
   "outputs": [],
   "source": [
    "run_dir = Path(f\"./runs/{sorted(os.listdir('./runs'))[-1]}\")"
   ]
  },
  {
   "cell_type": "code",
   "execution_count": 5,
   "metadata": {},
   "outputs": [],
   "source": [
    "def show_eval_results(period: str, epoch: str = \"010\") -> pd.DataFrame:\n",
    "    df = pd.read_csv(run_dir / f\"{period}\" / f\"model_epoch{epoch}\" / f\"{period}_metrics.csv\", dtype={'basin': str})\n",
    "    df = df.set_index('basin')\n",
    "\n",
    "    # Compute the median NSE from all basins, where discharge observations are available for that period\n",
    "    print(f\"Median NSE of the {period} period {df['NSE'].median():.3f}\")\n",
    "    print(f\"Mean NSE of the {period} period {df['NSE'].mean():.3f}\")\n",
    "    print(df)\n",
    "    \n",
    "    return df"
   ]
  },
  {
   "cell_type": "code",
   "execution_count": 6,
   "metadata": {},
   "outputs": [
    {
     "ename": "RuntimeError",
     "evalue": "This machine does not have GPU #5 ",
     "output_type": "error",
     "traceback": [
      "\u001b[0;31m---------------------------------------------------------------------------\u001b[0m",
      "\u001b[0;31mRuntimeError\u001b[0m                              Traceback (most recent call last)",
      "Cell \u001b[0;32mIn[6], line 1\u001b[0m\n\u001b[0;32m----> 1\u001b[0m \u001b[43meval_run\u001b[49m\u001b[43m(\u001b[49m\u001b[43mrun_dir\u001b[49m\u001b[43m,\u001b[49m\u001b[43m \u001b[49m\u001b[43mperiod\u001b[49m\u001b[38;5;241;43m=\u001b[39;49m\u001b[38;5;124;43m\"\u001b[39;49m\u001b[38;5;124;43mtrain\u001b[39;49m\u001b[38;5;124;43m\"\u001b[39;49m\u001b[43m,\u001b[49m\u001b[43m \u001b[49m\u001b[43mepoch\u001b[49m\u001b[38;5;241;43m=\u001b[39;49m\u001b[43mepoch\u001b[49m\u001b[43m,\u001b[49m\u001b[43m \u001b[49m\u001b[43mgpu\u001b[49m\u001b[38;5;241;43m=\u001b[39;49m\u001b[43mgpus\u001b[49m\u001b[43m[\u001b[49m\u001b[38;5;241;43m0\u001b[39;49m\u001b[43m]\u001b[49m\u001b[43m)\u001b[49m\n\u001b[1;32m      2\u001b[0m show_eval_results(\u001b[38;5;124m\"\u001b[39m\u001b[38;5;124mtrain\u001b[39m\u001b[38;5;124m\"\u001b[39m, epoch\u001b[38;5;241m=\u001b[39mepoch_str)\n",
      "File \u001b[0;32m~/Projects/ISSAI/Internship/aqua_rate/.venv/lib/python3.10/site-packages/neuralhydrology/nh_run.py:169\u001b[0m, in \u001b[0;36meval_run\u001b[0;34m(run_dir, period, epoch, gpu)\u001b[0m\n\u001b[1;32m    166\u001b[0m \u001b[38;5;28;01mif\u001b[39;00m gpu \u001b[38;5;129;01mis\u001b[39;00m \u001b[38;5;129;01mnot\u001b[39;00m \u001b[38;5;28;01mNone\u001b[39;00m \u001b[38;5;129;01mand\u001b[39;00m gpu \u001b[38;5;241m<\u001b[39m \u001b[38;5;241m0\u001b[39m:\n\u001b[1;32m    167\u001b[0m     config\u001b[38;5;241m.\u001b[39mdevice \u001b[38;5;241m=\u001b[39m \u001b[38;5;124m\"\u001b[39m\u001b[38;5;124mcpu\u001b[39m\u001b[38;5;124m\"\u001b[39m\n\u001b[0;32m--> 169\u001b[0m \u001b[43mstart_evaluation\u001b[49m\u001b[43m(\u001b[49m\u001b[43mcfg\u001b[49m\u001b[38;5;241;43m=\u001b[39;49m\u001b[43mconfig\u001b[49m\u001b[43m,\u001b[49m\u001b[43m \u001b[49m\u001b[43mrun_dir\u001b[49m\u001b[38;5;241;43m=\u001b[39;49m\u001b[43mrun_dir\u001b[49m\u001b[43m,\u001b[49m\u001b[43m \u001b[49m\u001b[43mepoch\u001b[49m\u001b[38;5;241;43m=\u001b[39;49m\u001b[43mepoch\u001b[49m\u001b[43m,\u001b[49m\u001b[43m \u001b[49m\u001b[43mperiod\u001b[49m\u001b[38;5;241;43m=\u001b[39;49m\u001b[43mperiod\u001b[49m\u001b[43m)\u001b[49m\n",
      "File \u001b[0;32m~/Projects/ISSAI/Internship/aqua_rate/.venv/lib/python3.10/site-packages/neuralhydrology/evaluation/evaluate.py:22\u001b[0m, in \u001b[0;36mstart_evaluation\u001b[0;34m(cfg, run_dir, epoch, period)\u001b[0m\n\u001b[1;32m      7\u001b[0m \u001b[38;5;28;01mdef\u001b[39;00m \u001b[38;5;21mstart_evaluation\u001b[39m(cfg: Config, run_dir: Path, epoch: \u001b[38;5;28mint\u001b[39m \u001b[38;5;241m=\u001b[39m \u001b[38;5;28;01mNone\u001b[39;00m, period: \u001b[38;5;28mstr\u001b[39m \u001b[38;5;241m=\u001b[39m \u001b[38;5;124m\"\u001b[39m\u001b[38;5;124mtest\u001b[39m\u001b[38;5;124m\"\u001b[39m):\n\u001b[1;32m      8\u001b[0m \u001b[38;5;250m    \u001b[39m\u001b[38;5;124;03m\"\"\"Start evaluation of a trained network\u001b[39;00m\n\u001b[1;32m      9\u001b[0m \n\u001b[1;32m     10\u001b[0m \u001b[38;5;124;03m    Parameters\u001b[39;00m\n\u001b[0;32m   (...)\u001b[0m\n\u001b[1;32m     20\u001b[0m \n\u001b[1;32m     21\u001b[0m \u001b[38;5;124;03m    \"\"\"\u001b[39;00m\n\u001b[0;32m---> 22\u001b[0m     tester \u001b[38;5;241m=\u001b[39m \u001b[43mget_tester\u001b[49m\u001b[43m(\u001b[49m\u001b[43mcfg\u001b[49m\u001b[38;5;241;43m=\u001b[39;49m\u001b[43mcfg\u001b[49m\u001b[43m,\u001b[49m\u001b[43m \u001b[49m\u001b[43mrun_dir\u001b[49m\u001b[38;5;241;43m=\u001b[39;49m\u001b[43mrun_dir\u001b[49m\u001b[43m,\u001b[49m\u001b[43m \u001b[49m\u001b[43mperiod\u001b[49m\u001b[38;5;241;43m=\u001b[39;49m\u001b[43mperiod\u001b[49m\u001b[43m,\u001b[49m\u001b[43m \u001b[49m\u001b[43minit_model\u001b[49m\u001b[38;5;241;43m=\u001b[39;49m\u001b[38;5;28;43;01mTrue\u001b[39;49;00m\u001b[43m)\u001b[49m\n\u001b[1;32m     23\u001b[0m     tester\u001b[38;5;241m.\u001b[39mevaluate(epoch\u001b[38;5;241m=\u001b[39mepoch, save_results\u001b[38;5;241m=\u001b[39m\u001b[38;5;28;01mTrue\u001b[39;00m, save_all_output\u001b[38;5;241m=\u001b[39mcfg\u001b[38;5;241m.\u001b[39msave_all_output, metrics\u001b[38;5;241m=\u001b[39mcfg\u001b[38;5;241m.\u001b[39mmetrics)\n",
      "File \u001b[0;32m~/Projects/ISSAI/Internship/aqua_rate/.venv/lib/python3.10/site-packages/neuralhydrology/evaluation/__init__.py:35\u001b[0m, in \u001b[0;36mget_tester\u001b[0;34m(cfg, run_dir, period, init_model)\u001b[0m\n\u001b[1;32m     32\u001b[0m \u001b[38;5;28;01melse\u001b[39;00m:\n\u001b[1;32m     33\u001b[0m     \u001b[38;5;167;01mNotImplementedError\u001b[39;00m(\u001b[38;5;124mf\u001b[39m\u001b[38;5;124m\"\u001b[39m\u001b[38;5;124mNo evaluation method implemented for \u001b[39m\u001b[38;5;132;01m{\u001b[39;00mcfg\u001b[38;5;241m.\u001b[39mhead\u001b[38;5;132;01m}\u001b[39;00m\u001b[38;5;124m head\u001b[39m\u001b[38;5;124m\"\u001b[39m)\n\u001b[0;32m---> 35\u001b[0m \u001b[38;5;28;01mreturn\u001b[39;00m \u001b[43mTester\u001b[49m\u001b[43m(\u001b[49m\u001b[43mcfg\u001b[49m\u001b[38;5;241;43m=\u001b[39;49m\u001b[43mcfg\u001b[49m\u001b[43m,\u001b[49m\u001b[43m \u001b[49m\u001b[43mrun_dir\u001b[49m\u001b[38;5;241;43m=\u001b[39;49m\u001b[43mrun_dir\u001b[49m\u001b[43m,\u001b[49m\u001b[43m \u001b[49m\u001b[43mperiod\u001b[49m\u001b[38;5;241;43m=\u001b[39;49m\u001b[43mperiod\u001b[49m\u001b[43m,\u001b[49m\u001b[43m \u001b[49m\u001b[43minit_model\u001b[49m\u001b[38;5;241;43m=\u001b[39;49m\u001b[43minit_model\u001b[49m\u001b[43m)\u001b[49m\n",
      "File \u001b[0;32m~/Projects/ISSAI/Internship/aqua_rate/.venv/lib/python3.10/site-packages/neuralhydrology/evaluation/tester.py:508\u001b[0m, in \u001b[0;36mRegressionTester.__init__\u001b[0;34m(self, cfg, run_dir, period, init_model)\u001b[0m\n\u001b[1;32m    507\u001b[0m \u001b[38;5;28;01mdef\u001b[39;00m \u001b[38;5;21m__init__\u001b[39m(\u001b[38;5;28mself\u001b[39m, cfg: Config, run_dir: Path, period: \u001b[38;5;28mstr\u001b[39m \u001b[38;5;241m=\u001b[39m \u001b[38;5;124m\"\u001b[39m\u001b[38;5;124mtest\u001b[39m\u001b[38;5;124m\"\u001b[39m, init_model: \u001b[38;5;28mbool\u001b[39m \u001b[38;5;241m=\u001b[39m \u001b[38;5;28;01mTrue\u001b[39;00m):\n\u001b[0;32m--> 508\u001b[0m     \u001b[38;5;28;43msuper\u001b[39;49m\u001b[43m(\u001b[49m\u001b[43mRegressionTester\u001b[49m\u001b[43m,\u001b[49m\u001b[43m \u001b[49m\u001b[38;5;28;43mself\u001b[39;49m\u001b[43m)\u001b[49m\u001b[38;5;241;43m.\u001b[39;49m\u001b[38;5;21;43m__init__\u001b[39;49m\u001b[43m(\u001b[49m\u001b[43mcfg\u001b[49m\u001b[43m,\u001b[49m\u001b[43m \u001b[49m\u001b[43mrun_dir\u001b[49m\u001b[43m,\u001b[49m\u001b[43m \u001b[49m\u001b[43mperiod\u001b[49m\u001b[43m,\u001b[49m\u001b[43m \u001b[49m\u001b[43minit_model\u001b[49m\u001b[43m)\u001b[49m\n",
      "File \u001b[0;32m~/Projects/ISSAI/Internship/aqua_rate/.venv/lib/python3.10/site-packages/neuralhydrology/evaluation/tester.py:61\u001b[0m, in \u001b[0;36mBaseTester.__init__\u001b[0;34m(self, cfg, run_dir, period, init_model)\u001b[0m\n\u001b[1;32m     58\u001b[0m     \u001b[38;5;28;01mraise\u001b[39;00m \u001b[38;5;167;01mValueError\u001b[39;00m(\u001b[38;5;124mf\u001b[39m\u001b[38;5;124m'\u001b[39m\u001b[38;5;124mInvalid period \u001b[39m\u001b[38;5;132;01m{\u001b[39;00mperiod\u001b[38;5;132;01m}\u001b[39;00m\u001b[38;5;124m. Must be one of [\u001b[39m\u001b[38;5;124m\"\u001b[39m\u001b[38;5;124mtrain\u001b[39m\u001b[38;5;124m\"\u001b[39m\u001b[38;5;124m, \u001b[39m\u001b[38;5;124m\"\u001b[39m\u001b[38;5;124mvalidation\u001b[39m\u001b[38;5;124m\"\u001b[39m\u001b[38;5;124m, \u001b[39m\u001b[38;5;124m\"\u001b[39m\u001b[38;5;124mtest\u001b[39m\u001b[38;5;124m\"\u001b[39m\u001b[38;5;124m]\u001b[39m\u001b[38;5;124m'\u001b[39m)\n\u001b[1;32m     60\u001b[0m \u001b[38;5;66;03m# determine device\u001b[39;00m\n\u001b[0;32m---> 61\u001b[0m \u001b[38;5;28;43mself\u001b[39;49m\u001b[38;5;241;43m.\u001b[39;49m\u001b[43m_set_device\u001b[49m\u001b[43m(\u001b[49m\u001b[43m)\u001b[49m\n\u001b[1;32m     63\u001b[0m \u001b[38;5;28;01mif\u001b[39;00m \u001b[38;5;28mself\u001b[39m\u001b[38;5;241m.\u001b[39minit_model:\n\u001b[1;32m     64\u001b[0m     \u001b[38;5;28mself\u001b[39m\u001b[38;5;241m.\u001b[39mmodel \u001b[38;5;241m=\u001b[39m get_model(cfg)\u001b[38;5;241m.\u001b[39mto(\u001b[38;5;28mself\u001b[39m\u001b[38;5;241m.\u001b[39mdevice)\n",
      "File \u001b[0;32m~/Projects/ISSAI/Internship/aqua_rate/.venv/lib/python3.10/site-packages/neuralhydrology/evaluation/tester.py:88\u001b[0m, in \u001b[0;36mBaseTester._set_device\u001b[0;34m(self)\u001b[0m\n\u001b[1;32m     86\u001b[0m gpu_id \u001b[38;5;241m=\u001b[39m \u001b[38;5;28mint\u001b[39m(\u001b[38;5;28mself\u001b[39m\u001b[38;5;241m.\u001b[39mcfg\u001b[38;5;241m.\u001b[39mdevice\u001b[38;5;241m.\u001b[39msplit(\u001b[38;5;124m'\u001b[39m\u001b[38;5;124m:\u001b[39m\u001b[38;5;124m'\u001b[39m)[\u001b[38;5;241m-\u001b[39m\u001b[38;5;241m1\u001b[39m])\n\u001b[1;32m     87\u001b[0m \u001b[38;5;28;01mif\u001b[39;00m gpu_id \u001b[38;5;241m>\u001b[39m torch\u001b[38;5;241m.\u001b[39mcuda\u001b[38;5;241m.\u001b[39mdevice_count():\n\u001b[0;32m---> 88\u001b[0m     \u001b[38;5;28;01mraise\u001b[39;00m \u001b[38;5;167;01mRuntimeError\u001b[39;00m(\u001b[38;5;124mf\u001b[39m\u001b[38;5;124m\"\u001b[39m\u001b[38;5;124mThis machine does not have GPU #\u001b[39m\u001b[38;5;132;01m{\u001b[39;00mgpu_id\u001b[38;5;132;01m}\u001b[39;00m\u001b[38;5;124m \u001b[39m\u001b[38;5;124m\"\u001b[39m)\n\u001b[1;32m     89\u001b[0m \u001b[38;5;28;01melse\u001b[39;00m:\n\u001b[1;32m     90\u001b[0m     \u001b[38;5;28mself\u001b[39m\u001b[38;5;241m.\u001b[39mdevice \u001b[38;5;241m=\u001b[39m torch\u001b[38;5;241m.\u001b[39mdevice(\u001b[38;5;28mself\u001b[39m\u001b[38;5;241m.\u001b[39mcfg\u001b[38;5;241m.\u001b[39mdevice)\n",
      "\u001b[0;31mRuntimeError\u001b[0m: This machine does not have GPU #5 "
     ]
    }
   ],
   "source": [
    "eval_run(run_dir, period=\"train\", epoch=epoch, gpu=gpus[0])\n",
    "df_train = show_eval_results(\"train\", epoch=epoch_str)"
   ]
  },
  {
   "cell_type": "code",
   "execution_count": null,
   "metadata": {},
   "outputs": [
    {
     "name": "stdout",
     "output_type": "stream",
     "text": [
      "# Validation:  10%|▉         | 4/42 [00:00<00:09,  4.12it/s]"
     ]
    },
    {
     "name": "stderr",
     "output_type": "stream",
     "text": [
      "The following basins had not enough valid target values to calculate a standard deviation: 11163. NSE loss values for this basin will be NaN.\n"
     ]
    },
    {
     "name": "stdout",
     "output_type": "stream",
     "text": [
      "# Validation:  45%|████▌     | 19/42 [00:04<00:05,  4.11it/s]"
     ]
    },
    {
     "name": "stderr",
     "output_type": "stream",
     "text": [
      "The following basins had not enough valid target values to calculate a standard deviation: 13035. NSE loss values for this basin will be NaN.\n"
     ]
    },
    {
     "name": "stdout",
     "output_type": "stream",
     "text": [
      "# Validation:  67%|██████▋   | 28/42 [00:07<00:03,  4.03it/s]"
     ]
    },
    {
     "name": "stderr",
     "output_type": "stream",
     "text": [
      "The following basins had not enough valid target values to calculate a standard deviation: 19013. NSE loss values for this basin will be NaN.\n"
     ]
    },
    {
     "name": "stdout",
     "output_type": "stream",
     "text": [
      "# Validation: 100%|██████████| 42/42 [00:10<00:00,  3.96it/s]\n",
      "Median NSE of the validation period 0.352\n",
      "Mean NSE of the validation period 0.361\n",
      "            NSE\n",
      "basin          \n",
      "11001  0.585831\n",
      "11068 -0.384398\n",
      "11126  0.854831\n",
      "11129  0.764054\n",
      "11163       NaN\n",
      "11164  0.628861\n",
      "11275  0.008243\n",
      "11293  0.445322\n",
      "11397  0.074017\n",
      "11433  0.163400\n",
      "11469  0.737924\n",
      "12002  0.328793\n",
      "12008 -0.214038\n",
      "12032 -0.014399\n",
      "12072  0.308092\n",
      "12075  0.554264\n",
      "12564  0.351611\n",
      "13002  0.343412\n",
      "13005  0.310955\n",
      "13035       NaN\n",
      "13038  0.538745\n",
      "13048  0.325846\n",
      "13064  0.195148\n",
      "13090  0.760546\n",
      "13091  0.494310\n",
      "13115  0.540329\n",
      "13128  0.364835\n",
      "13221  0.357655\n",
      "19013       NaN\n",
      "19022  0.079550\n",
      "19195  0.224465\n",
      "19196  0.485065\n",
      "19205  0.395473\n",
      "19208  0.168145\n",
      "19218  0.329480\n",
      "19243  0.229327\n",
      "19289  0.247906\n",
      "19300  0.547841\n",
      "19302  0.711471\n",
      "19462  0.466795\n",
      "19463  0.461266\n",
      "77819  0.309240\n"
     ]
    }
   ],
   "source": [
    "eval_run(run_dir, period=\"validation\", epoch=epoch, gpu=gpus[0])\n",
    "df_val = show_eval_results(\"validation\", epoch=epoch_str)"
   ]
  },
  {
   "cell_type": "code",
   "execution_count": null,
   "metadata": {},
   "outputs": [
    {
     "name": "stdout",
     "output_type": "stream",
     "text": [
      "# Evaluation:  10%|▉         | 4/42 [00:00<00:09,  4.12it/s]"
     ]
    },
    {
     "name": "stderr",
     "output_type": "stream",
     "text": [
      "The following basins had not enough valid target values to calculate a standard deviation: 11163. NSE loss values for this basin will be NaN.\n"
     ]
    },
    {
     "name": "stdout",
     "output_type": "stream",
     "text": [
      "# Evaluation:  45%|████▌     | 19/42 [00:04<00:05,  4.03it/s]"
     ]
    },
    {
     "name": "stderr",
     "output_type": "stream",
     "text": [
      "The following basins had not enough valid target values to calculate a standard deviation: 13035. NSE loss values for this basin will be NaN.\n"
     ]
    },
    {
     "name": "stdout",
     "output_type": "stream",
     "text": [
      "# Evaluation:  67%|██████▋   | 28/42 [00:07<00:03,  4.07it/s]"
     ]
    },
    {
     "name": "stderr",
     "output_type": "stream",
     "text": [
      "The following basins had not enough valid target values to calculate a standard deviation: 19013. NSE loss values for this basin will be NaN.\n"
     ]
    },
    {
     "name": "stdout",
     "output_type": "stream",
     "text": [
      "# Evaluation: 100%|██████████| 42/42 [00:10<00:00,  3.95it/s]\n",
      "Median NSE of the test period -0.000\n",
      "Mean NSE of the test period -56.034\n",
      "               NSE\n",
      "basin             \n",
      "11001     0.681770\n",
      "11068    -1.040793\n",
      "11126     0.783455\n",
      "11129     0.742770\n",
      "11163          NaN\n",
      "11164     0.728758\n",
      "11275     0.031301\n",
      "11293     0.525794\n",
      "11397     0.060387\n",
      "11433     0.403923\n",
      "11469     0.828736\n",
      "12002    -0.769617\n",
      "12008    -5.358892\n",
      "12032    -0.111583\n",
      "12072    -0.000325\n",
      "12075    -0.820714\n",
      "12564     0.044145\n",
      "13002    -0.410889\n",
      "13005     0.326431\n",
      "13035          NaN\n",
      "13038 -1796.698364\n",
      "13048     0.102794\n",
      "13064     0.276326\n",
      "13090     0.427330\n",
      "13091     0.398711\n",
      "13115     0.592826\n",
      "13128     0.210627\n",
      "13221     0.110321\n",
      "19013          NaN\n",
      "19022    -7.104419\n",
      "19195    -1.616225\n",
      "19196   -10.348888\n",
      "19205    -1.253524\n",
      "19208    -1.192095\n",
      "19218    -8.354615\n",
      "19243   -59.410980\n",
      "19289   -20.666443\n",
      "19300    -1.938063\n",
      "19302    -5.080658\n",
      "19462   -11.104247\n",
      "19463  -259.757690\n",
      "77819     0.422217\n"
     ]
    }
   ],
   "source": [
    "eval_run(run_dir, period=\"test\", epoch=epoch, gpu=gpus[0])\n",
    "df_test = show_eval_results(\"test\", epoch=epoch_str)"
   ]
  },
  {
   "cell_type": "code",
   "execution_count": null,
   "metadata": {},
   "outputs": [],
   "source": [
    "df_train = df_train.rename(columns={\"NSE\": \"NSE_train\", \"KGE\": \"KGE_train\"})\n",
    "df_val = df_val.rename(columns={\"NSE\": \"NSE_val\", \"KGE\": \"KGE_val\"})\n",
    "df_test = df_test.rename(columns={\"NSE\": \"NSE_test\", \"KGE\": \"KGE_test\"})"
   ]
  },
  {
   "cell_type": "code",
   "execution_count": null,
   "metadata": {},
   "outputs": [],
   "source": [
    "df_tmp = pd.merge(df_train, df_val, left_index=True, right_index=True)\n",
    "df = pd.merge(df_tmp, df_test, left_index=True, right_index=True)\n",
    "df.head()"
   ]
  },
  {
   "cell_type": "markdown",
   "metadata": {},
   "source": [
    "File will be saved in the current runs directory"
   ]
  },
  {
   "cell_type": "code",
   "execution_count": null,
   "metadata": {},
   "outputs": [],
   "source": [
    "df.to_csv(f\"{str(run_dir)}/eval.csv\")"
   ]
  }
 ],
 "metadata": {
  "kernelspec": {
   "display_name": ".venv",
   "language": "python",
   "name": "python3"
  },
  "language_info": {
   "codemirror_mode": {
    "name": "ipython",
    "version": 3
   },
   "file_extension": ".py",
   "mimetype": "text/x-python",
   "name": "python",
   "nbconvert_exporter": "python",
   "pygments_lexer": "ipython3",
   "version": "3.10.12"
  }
 },
 "nbformat": 4,
 "nbformat_minor": 2
}
