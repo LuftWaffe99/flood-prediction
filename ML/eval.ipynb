{
 "cells": [
  {
   "cell_type": "code",
   "execution_count": 1,
   "metadata": {},
   "outputs": [],
   "source": [
    "import os\n",
    "import json\n",
    "from pathlib import Path\n",
    "\n",
    "import pandas as pd\n",
    "\n",
    "from neuralhydrology.nh_run import eval_run"
   ]
  },
  {
   "cell_type": "code",
   "execution_count": 2,
   "metadata": {},
   "outputs": [],
   "source": [
    "# load allowed GPU ids\n",
    "f = open(\"gpu.json\")\n",
    "gpus = json.load(f)\n",
    "f.close()"
   ]
  },
  {
   "cell_type": "code",
   "execution_count": 3,
   "metadata": {},
   "outputs": [],
   "source": [
    "epoch = 20\n",
    "epoch_str = str(epoch) if epoch / 100 > 1 else f\"0{epoch}\""
   ]
  },
  {
   "cell_type": "code",
   "execution_count": 4,
   "metadata": {},
   "outputs": [],
   "source": [
    "run_dir = Path(f\"./runs/{sorted(os.listdir('./runs'))[-1]}\")"
   ]
  },
  {
   "cell_type": "code",
   "execution_count": 5,
   "metadata": {},
   "outputs": [],
   "source": [
    "def eval_results(period: str, epoch: str = \"010\") -> pd.DataFrame:\n",
    "    df = pd.read_csv(run_dir / f\"{period}\" / f\"model_epoch{epoch}\" / f\"{period}_metrics.csv\", dtype={'basin': str})\n",
    "    df = df.set_index('basin')\n",
    "\n",
    "    # Compute the median NSE from all basins, where discharge observations are available for that period\n",
    "    print(f\"Median NSE of the {period} period {df['NSE'].median():.3f}\")\n",
    "    print(f\"Mean NSE of the {period} period {df['NSE'].mean():.3f}\")\n",
    "    \n",
    "    return df"
   ]
  },
  {
   "cell_type": "code",
   "execution_count": 6,
   "metadata": {},
   "outputs": [
    {
     "name": "stdout",
     "output_type": "stream",
     "text": [
      "# Evaluation:  40%|████      | 17/42 [00:12<00:17,  1.42it/s]"
     ]
    },
    {
     "name": "stderr",
     "output_type": "stream",
     "text": [
      "Basin 13002 All simulated values are NaN, thus metrics will be NaN, too.\n"
     ]
    },
    {
     "name": "stdout",
     "output_type": "stream",
     "text": [
      "# Evaluation:  43%|████▎     | 18/42 [00:13<00:18,  1.30it/s]"
     ]
    },
    {
     "name": "stderr",
     "output_type": "stream",
     "text": [
      "Basin 13005 All simulated values are NaN, thus metrics will be NaN, too.\n"
     ]
    },
    {
     "name": "stdout",
     "output_type": "stream",
     "text": [
      "# Evaluation:  45%|████▌     | 19/42 [00:15<00:24,  1.07s/it]"
     ]
    },
    {
     "name": "stderr",
     "output_type": "stream",
     "text": [
      "The following basins had not enough valid target values to calculate a standard deviation: 13035. NSE loss values for this basin will be NaN.\n"
     ]
    },
    {
     "name": "stdout",
     "output_type": "stream",
     "text": [
      "# Evaluation:  67%|██████▋   | 28/42 [00:24<00:15,  1.14s/it]"
     ]
    },
    {
     "name": "stderr",
     "output_type": "stream",
     "text": [
      "The following basins had not enough valid target values to calculate a standard deviation: 19013. NSE loss values for this basin will be NaN.\n"
     ]
    },
    {
     "name": "stdout",
     "output_type": "stream",
     "text": [
      "# Evaluation:  83%|████████▎ | 35/42 [00:27<00:03,  2.07it/s]"
     ]
    },
    {
     "name": "stderr",
     "output_type": "stream",
     "text": [
      "Basin 19243 All simulated values are NaN, thus metrics will be NaN, too.\n"
     ]
    },
    {
     "name": "stdout",
     "output_type": "stream",
     "text": [
      "# Evaluation: 100%|██████████| 42/42 [00:33<00:00,  1.27it/s]\n",
      "Median NSE of the train period 0.935\n",
      "Mean NSE of the train period 0.871\n"
     ]
    }
   ],
   "source": [
    "eval_run(run_dir, period=\"train\", epoch=epoch, gpu=gpus[0])\n",
    "df_train = eval_results(\"train\", epoch=epoch_str)"
   ]
  },
  {
   "cell_type": "code",
   "execution_count": 7,
   "metadata": {},
   "outputs": [
    {
     "name": "stdout",
     "output_type": "stream",
     "text": [
      "# Validation:   7%|▋         | 3/42 [00:00<00:03, 10.30it/s]"
     ]
    },
    {
     "name": "stderr",
     "output_type": "stream",
     "text": [
      "The following basins had not enough valid target values to calculate a standard deviation: 11163. NSE loss values for this basin will be NaN.\n"
     ]
    },
    {
     "name": "stdout",
     "output_type": "stream",
     "text": [
      "# Validation:  45%|████▌     | 19/42 [00:02<00:02,  9.82it/s]"
     ]
    },
    {
     "name": "stderr",
     "output_type": "stream",
     "text": [
      "The following basins had not enough valid target values to calculate a standard deviation: 13035. NSE loss values for this basin will be NaN.\n"
     ]
    },
    {
     "name": "stdout",
     "output_type": "stream",
     "text": [
      "# Validation:  67%|██████▋   | 28/42 [00:03<00:01,  9.53it/s]"
     ]
    },
    {
     "name": "stderr",
     "output_type": "stream",
     "text": [
      "The following basins had not enough valid target values to calculate a standard deviation: 19013. NSE loss values for this basin will be NaN.\n"
     ]
    },
    {
     "name": "stdout",
     "output_type": "stream",
     "text": [
      "# Validation: 100%|██████████| 42/42 [00:04<00:00,  8.69it/s]\n",
      "Median NSE of the validation period 0.904\n",
      "Mean NSE of the validation period 0.821\n"
     ]
    }
   ],
   "source": [
    "eval_run(run_dir, period=\"validation\", epoch=epoch, gpu=gpus[0])\n",
    "df_val = eval_results(\"validation\", epoch=epoch_str)"
   ]
  },
  {
   "cell_type": "code",
   "execution_count": 8,
   "metadata": {},
   "outputs": [
    {
     "name": "stdout",
     "output_type": "stream",
     "text": [
      "# Evaluation:  10%|▉         | 4/42 [00:00<00:04,  9.13it/s]"
     ]
    },
    {
     "name": "stderr",
     "output_type": "stream",
     "text": [
      "The following basins had not enough valid target values to calculate a standard deviation: 11163. NSE loss values for this basin will be NaN.\n"
     ]
    },
    {
     "name": "stdout",
     "output_type": "stream",
     "text": [
      "# Evaluation:  45%|████▌     | 19/42 [00:02<00:02,  8.34it/s]"
     ]
    },
    {
     "name": "stderr",
     "output_type": "stream",
     "text": [
      "The following basins had not enough valid target values to calculate a standard deviation: 13035. NSE loss values for this basin will be NaN.\n"
     ]
    },
    {
     "name": "stdout",
     "output_type": "stream",
     "text": [
      "# Evaluation:  67%|██████▋   | 28/42 [00:03<00:01,  9.42it/s]"
     ]
    },
    {
     "name": "stderr",
     "output_type": "stream",
     "text": [
      "The following basins had not enough valid target values to calculate a standard deviation: 19013. NSE loss values for this basin will be NaN.\n"
     ]
    },
    {
     "name": "stdout",
     "output_type": "stream",
     "text": [
      "# Evaluation: 100%|██████████| 42/42 [00:04<00:00,  8.64it/s]\n",
      "Median NSE of the test period 0.808\n",
      "Mean NSE of the test period -1.880\n"
     ]
    }
   ],
   "source": [
    "eval_run(run_dir, period=\"test\", epoch=epoch, gpu=gpus[0])\n",
    "df_test = eval_results(\"test\", epoch=epoch_str)"
   ]
  },
  {
   "cell_type": "code",
   "execution_count": 9,
   "metadata": {},
   "outputs": [],
   "source": [
    "df_train = df_train.rename(columns={\"NSE\": \"NSE_train\", \"KGE\": \"KGE_train\"})\n",
    "df_val = df_val.rename(columns={\"NSE\": \"NSE_val\", \"KGE\": \"KGE_val\"})\n",
    "df_test = df_test.rename(columns={\"NSE\": \"NSE_test\", \"KGE\": \"KGE_test\"})"
   ]
  },
  {
   "cell_type": "code",
   "execution_count": 10,
   "metadata": {},
   "outputs": [
    {
     "data": {
      "text/html": [
       "<div>\n",
       "<style scoped>\n",
       "    .dataframe tbody tr th:only-of-type {\n",
       "        vertical-align: middle;\n",
       "    }\n",
       "\n",
       "    .dataframe tbody tr th {\n",
       "        vertical-align: top;\n",
       "    }\n",
       "\n",
       "    .dataframe thead th {\n",
       "        text-align: right;\n",
       "    }\n",
       "</style>\n",
       "<table border=\"1\" class=\"dataframe\">\n",
       "  <thead>\n",
       "    <tr style=\"text-align: right;\">\n",
       "      <th></th>\n",
       "      <th>NSE_train</th>\n",
       "      <th>KGE_train</th>\n",
       "      <th>NSE_val</th>\n",
       "      <th>KGE_val</th>\n",
       "      <th>NSE_test</th>\n",
       "      <th>KGE_test</th>\n",
       "    </tr>\n",
       "    <tr>\n",
       "      <th>basin</th>\n",
       "      <th></th>\n",
       "      <th></th>\n",
       "      <th></th>\n",
       "      <th></th>\n",
       "      <th></th>\n",
       "      <th></th>\n",
       "    </tr>\n",
       "  </thead>\n",
       "  <tbody>\n",
       "    <tr>\n",
       "      <th>11001</th>\n",
       "      <td>0.986364</td>\n",
       "      <td>0.989054</td>\n",
       "      <td>0.980813</td>\n",
       "      <td>0.969651</td>\n",
       "      <td>0.945142</td>\n",
       "      <td>0.952948</td>\n",
       "    </tr>\n",
       "    <tr>\n",
       "      <th>11068</th>\n",
       "      <td>0.980227</td>\n",
       "      <td>0.988455</td>\n",
       "      <td>0.954066</td>\n",
       "      <td>0.968720</td>\n",
       "      <td>0.938136</td>\n",
       "      <td>0.968232</td>\n",
       "    </tr>\n",
       "    <tr>\n",
       "      <th>11126</th>\n",
       "      <td>0.977777</td>\n",
       "      <td>0.975617</td>\n",
       "      <td>0.980214</td>\n",
       "      <td>0.980604</td>\n",
       "      <td>0.970454</td>\n",
       "      <td>0.984694</td>\n",
       "    </tr>\n",
       "    <tr>\n",
       "      <th>11129</th>\n",
       "      <td>0.978555</td>\n",
       "      <td>0.974849</td>\n",
       "      <td>0.967298</td>\n",
       "      <td>0.981177</td>\n",
       "      <td>0.958020</td>\n",
       "      <td>0.968957</td>\n",
       "    </tr>\n",
       "    <tr>\n",
       "      <th>11163</th>\n",
       "      <td>0.956770</td>\n",
       "      <td>0.962357</td>\n",
       "      <td>NaN</td>\n",
       "      <td>NaN</td>\n",
       "      <td>NaN</td>\n",
       "      <td>NaN</td>\n",
       "    </tr>\n",
       "  </tbody>\n",
       "</table>\n",
       "</div>"
      ],
      "text/plain": [
       "       NSE_train  KGE_train   NSE_val   KGE_val  NSE_test  KGE_test\n",
       "basin                                                              \n",
       "11001   0.986364   0.989054  0.980813  0.969651  0.945142  0.952948\n",
       "11068   0.980227   0.988455  0.954066  0.968720  0.938136  0.968232\n",
       "11126   0.977777   0.975617  0.980214  0.980604  0.970454  0.984694\n",
       "11129   0.978555   0.974849  0.967298  0.981177  0.958020  0.968957\n",
       "11163   0.956770   0.962357       NaN       NaN       NaN       NaN"
      ]
     },
     "execution_count": 10,
     "metadata": {},
     "output_type": "execute_result"
    }
   ],
   "source": [
    "df_tmp = pd.merge(df_train, df_val, left_index=True, right_index=True)\n",
    "df = pd.merge(df_tmp, df_test, left_index=True, right_index=True)\n",
    "df.head()"
   ]
  },
  {
   "cell_type": "markdown",
   "metadata": {},
   "source": [
    "File will be saved in the current runs directory"
   ]
  },
  {
   "cell_type": "code",
   "execution_count": 11,
   "metadata": {},
   "outputs": [],
   "source": [
    "df.to_csv(f\"{str(run_dir)}/eval.csv\")"
   ]
  }
 ],
 "metadata": {
  "kernelspec": {
   "display_name": ".venv",
   "language": "python",
   "name": "python3"
  },
  "language_info": {
   "codemirror_mode": {
    "name": "ipython",
    "version": 3
   },
   "file_extension": ".py",
   "mimetype": "text/x-python",
   "name": "python",
   "nbconvert_exporter": "python",
   "pygments_lexer": "ipython3",
   "version": "3.10.12"
  }
 },
 "nbformat": 4,
 "nbformat_minor": 2
}
