{
 "cells": [
  {
   "cell_type": "code",
   "execution_count": 1,
   "metadata": {},
   "outputs": [],
   "source": [
    "import os\n",
    "from pathlib import Path\n",
    "\n",
    "import pandas as pd\n",
    "\n",
    "from neuralhydrology.nh_run import eval_run"
   ]
  },
  {
   "cell_type": "code",
   "execution_count": 2,
   "metadata": {},
   "outputs": [],
   "source": [
    "epoch = 19\n",
    "epoch_str = str(epoch) if epoch / 100 > 1 else f\"0{epoch}\""
   ]
  },
  {
   "cell_type": "code",
   "execution_count": 3,
   "metadata": {},
   "outputs": [],
   "source": [
    "run_dir = Path(f\"./runs/{sorted(os.listdir('./runs'))[-1]}\")\n",
    "run_dir = Path(f\"./runs/experiment_1_0207_174417/continue_training_from_epoch010\")\n",
    "run_dir = Path(f\"./runs/{sorted(os.listdir('./runs'))[0]}\")\n",
    "# run_dir = Path(f\"./runs/experiment_1_0107_164748\")"
   ]
  },
  {
   "cell_type": "code",
   "execution_count": 4,
   "metadata": {},
   "outputs": [],
   "source": [
    "def show_eval_results(period: str, epoch: str = \"010\"):\n",
    "    df = pd.read_csv(run_dir / f\"{period}\" / f\"model_epoch{epoch}\" / f\"{period}_metrics.csv\", dtype={'basin': str})\n",
    "    df = df.set_index('basin')\n",
    "\n",
    "    # Compute the median NSE from all basins, where discharge observations are available for that period\n",
    "    print(f\"Median NSE of the {period} period {df['NSE'].median():.3f}\")\n",
    "    print(f\"Mean NSE of the {period} period {df['NSE'].mean():.3f}\")\n",
    "    print(df)"
   ]
  },
  {
   "cell_type": "code",
   "execution_count": 5,
   "metadata": {},
   "outputs": [
    {
     "name": "stdout",
     "output_type": "stream",
     "text": [
      "# Evaluation:  45%|████▌     | 19/42 [00:08<00:11,  1.96it/s]"
     ]
    },
    {
     "name": "stderr",
     "output_type": "stream",
     "text": [
      "The following basins had not enough valid target values to calculate a standard deviation: 13035. NSE loss values for this basin will be NaN.\n"
     ]
    },
    {
     "name": "stdout",
     "output_type": "stream",
     "text": [
      "# Evaluation:  57%|█████▋    | 24/42 [00:10<00:08,  2.22it/s]\n"
     ]
    },
    {
     "ename": "KeyboardInterrupt",
     "evalue": "",
     "output_type": "error",
     "traceback": [
      "\u001b[0;31m---------------------------------------------------------------------------\u001b[0m",
      "\u001b[0;31mKeyboardInterrupt\u001b[0m                         Traceback (most recent call last)",
      "Cell \u001b[0;32mIn[5], line 1\u001b[0m\n\u001b[0;32m----> 1\u001b[0m \u001b[43meval_run\u001b[49m\u001b[43m(\u001b[49m\u001b[43mrun_dir\u001b[49m\u001b[43m,\u001b[49m\u001b[43m \u001b[49m\u001b[43mperiod\u001b[49m\u001b[38;5;241;43m=\u001b[39;49m\u001b[38;5;124;43m\"\u001b[39;49m\u001b[38;5;124;43mtrain\u001b[39;49m\u001b[38;5;124;43m\"\u001b[39;49m\u001b[43m,\u001b[49m\u001b[43m \u001b[49m\u001b[43mepoch\u001b[49m\u001b[38;5;241;43m=\u001b[39;49m\u001b[43mepoch\u001b[49m\u001b[43m)\u001b[49m\n\u001b[1;32m      2\u001b[0m show_eval_results(\u001b[38;5;124m\"\u001b[39m\u001b[38;5;124mtrain\u001b[39m\u001b[38;5;124m\"\u001b[39m, epoch\u001b[38;5;241m=\u001b[39mepoch_str)\n",
      "File \u001b[0;32m~/Projects/ISSAI/Internship/aqua_rate/.venv/lib/python3.10/site-packages/neuralhydrology/nh_run.py:169\u001b[0m, in \u001b[0;36meval_run\u001b[0;34m(run_dir, period, epoch, gpu)\u001b[0m\n\u001b[1;32m    166\u001b[0m \u001b[38;5;28;01mif\u001b[39;00m gpu \u001b[38;5;129;01mis\u001b[39;00m \u001b[38;5;129;01mnot\u001b[39;00m \u001b[38;5;28;01mNone\u001b[39;00m \u001b[38;5;129;01mand\u001b[39;00m gpu \u001b[38;5;241m<\u001b[39m \u001b[38;5;241m0\u001b[39m:\n\u001b[1;32m    167\u001b[0m     config\u001b[38;5;241m.\u001b[39mdevice \u001b[38;5;241m=\u001b[39m \u001b[38;5;124m\"\u001b[39m\u001b[38;5;124mcpu\u001b[39m\u001b[38;5;124m\"\u001b[39m\n\u001b[0;32m--> 169\u001b[0m \u001b[43mstart_evaluation\u001b[49m\u001b[43m(\u001b[49m\u001b[43mcfg\u001b[49m\u001b[38;5;241;43m=\u001b[39;49m\u001b[43mconfig\u001b[49m\u001b[43m,\u001b[49m\u001b[43m \u001b[49m\u001b[43mrun_dir\u001b[49m\u001b[38;5;241;43m=\u001b[39;49m\u001b[43mrun_dir\u001b[49m\u001b[43m,\u001b[49m\u001b[43m \u001b[49m\u001b[43mepoch\u001b[49m\u001b[38;5;241;43m=\u001b[39;49m\u001b[43mepoch\u001b[49m\u001b[43m,\u001b[49m\u001b[43m \u001b[49m\u001b[43mperiod\u001b[49m\u001b[38;5;241;43m=\u001b[39;49m\u001b[43mperiod\u001b[49m\u001b[43m)\u001b[49m\n",
      "File \u001b[0;32m~/Projects/ISSAI/Internship/aqua_rate/.venv/lib/python3.10/site-packages/neuralhydrology/evaluation/evaluate.py:23\u001b[0m, in \u001b[0;36mstart_evaluation\u001b[0;34m(cfg, run_dir, epoch, period)\u001b[0m\n\u001b[1;32m      8\u001b[0m \u001b[38;5;250m\u001b[39m\u001b[38;5;124;03m\"\"\"Start evaluation of a trained network\u001b[39;00m\n\u001b[1;32m      9\u001b[0m \n\u001b[1;32m     10\u001b[0m \u001b[38;5;124;03mParameters\u001b[39;00m\n\u001b[0;32m   (...)\u001b[0m\n\u001b[1;32m     20\u001b[0m \n\u001b[1;32m     21\u001b[0m \u001b[38;5;124;03m\"\"\"\u001b[39;00m\n\u001b[1;32m     22\u001b[0m tester \u001b[38;5;241m=\u001b[39m get_tester(cfg\u001b[38;5;241m=\u001b[39mcfg, run_dir\u001b[38;5;241m=\u001b[39mrun_dir, period\u001b[38;5;241m=\u001b[39mperiod, init_model\u001b[38;5;241m=\u001b[39m\u001b[38;5;28;01mTrue\u001b[39;00m)\n\u001b[0;32m---> 23\u001b[0m \u001b[43mtester\u001b[49m\u001b[38;5;241;43m.\u001b[39;49m\u001b[43mevaluate\u001b[49m\u001b[43m(\u001b[49m\u001b[43mepoch\u001b[49m\u001b[38;5;241;43m=\u001b[39;49m\u001b[43mepoch\u001b[49m\u001b[43m,\u001b[49m\u001b[43m \u001b[49m\u001b[43msave_results\u001b[49m\u001b[38;5;241;43m=\u001b[39;49m\u001b[38;5;28;43;01mTrue\u001b[39;49;00m\u001b[43m,\u001b[49m\u001b[43m \u001b[49m\u001b[43msave_all_output\u001b[49m\u001b[38;5;241;43m=\u001b[39;49m\u001b[43mcfg\u001b[49m\u001b[38;5;241;43m.\u001b[39;49m\u001b[43msave_all_output\u001b[49m\u001b[43m,\u001b[49m\u001b[43m \u001b[49m\u001b[43mmetrics\u001b[49m\u001b[38;5;241;43m=\u001b[39;49m\u001b[43mcfg\u001b[49m\u001b[38;5;241;43m.\u001b[39;49m\u001b[43mmetrics\u001b[49m\u001b[43m)\u001b[49m\n",
      "File \u001b[0;32m~/Projects/ISSAI/Internship/aqua_rate/.venv/lib/python3.10/site-packages/neuralhydrology/evaluation/tester.py:216\u001b[0m, in \u001b[0;36mBaseTester.evaluate\u001b[0;34m(self, epoch, save_results, save_all_output, metrics, model, experiment_logger)\u001b[0m\n\u001b[1;32m    212\u001b[0m         \u001b[38;5;28mself\u001b[39m\u001b[38;5;241m.\u001b[39mcached_datasets[basin] \u001b[38;5;241m=\u001b[39m ds\n\u001b[1;32m    214\u001b[0m loader \u001b[38;5;241m=\u001b[39m DataLoader(ds, batch_size\u001b[38;5;241m=\u001b[39m\u001b[38;5;28mself\u001b[39m\u001b[38;5;241m.\u001b[39mcfg\u001b[38;5;241m.\u001b[39mbatch_size, num_workers\u001b[38;5;241m=\u001b[39m\u001b[38;5;241m0\u001b[39m, collate_fn\u001b[38;5;241m=\u001b[39mds\u001b[38;5;241m.\u001b[39mcollate_fn)\n\u001b[0;32m--> 216\u001b[0m y_hat, y, dates, all_losses, all_output[basin] \u001b[38;5;241m=\u001b[39m \u001b[38;5;28;43mself\u001b[39;49m\u001b[38;5;241;43m.\u001b[39;49m\u001b[43m_evaluate\u001b[49m\u001b[43m(\u001b[49m\u001b[43mmodel\u001b[49m\u001b[43m,\u001b[49m\u001b[43m \u001b[49m\u001b[43mloader\u001b[49m\u001b[43m,\u001b[49m\u001b[43m \u001b[49m\u001b[43mds\u001b[49m\u001b[38;5;241;43m.\u001b[39;49m\u001b[43mfrequencies\u001b[49m\u001b[43m,\u001b[49m\n\u001b[1;32m    217\u001b[0m \u001b[43m                                                                \u001b[49m\u001b[43msave_all_output\u001b[49m\u001b[43m)\u001b[49m\n\u001b[1;32m    219\u001b[0m \u001b[38;5;66;03m# log loss of this basin plus number of samples in the logger to compute epoch aggregates later\u001b[39;00m\n\u001b[1;32m    220\u001b[0m \u001b[38;5;28;01mif\u001b[39;00m experiment_logger \u001b[38;5;129;01mis\u001b[39;00m \u001b[38;5;129;01mnot\u001b[39;00m \u001b[38;5;28;01mNone\u001b[39;00m:\n",
      "File \u001b[0;32m~/Projects/ISSAI/Internship/aqua_rate/.venv/lib/python3.10/site-packages/neuralhydrology/evaluation/tester.py:423\u001b[0m, in \u001b[0;36mBaseTester._evaluate\u001b[0;34m(self, model, loader, frequencies, save_all_output)\u001b[0m\n\u001b[1;32m    421\u001b[0m         data[key] \u001b[38;5;241m=\u001b[39m data[key]\u001b[38;5;241m.\u001b[39mto(\u001b[38;5;28mself\u001b[39m\u001b[38;5;241m.\u001b[39mdevice)\n\u001b[1;32m    422\u001b[0m data \u001b[38;5;241m=\u001b[39m model\u001b[38;5;241m.\u001b[39mpre_model_hook(data, is_train\u001b[38;5;241m=\u001b[39m\u001b[38;5;28;01mFalse\u001b[39;00m)\n\u001b[0;32m--> 423\u001b[0m predictions, loss \u001b[38;5;241m=\u001b[39m \u001b[38;5;28;43mself\u001b[39;49m\u001b[38;5;241;43m.\u001b[39;49m\u001b[43m_get_predictions_and_loss\u001b[49m\u001b[43m(\u001b[49m\u001b[43mmodel\u001b[49m\u001b[43m,\u001b[49m\u001b[43m \u001b[49m\u001b[43mdata\u001b[49m\u001b[43m)\u001b[49m\n\u001b[1;32m    425\u001b[0m \u001b[38;5;28;01mif\u001b[39;00m all_output:\n\u001b[1;32m    426\u001b[0m     \u001b[38;5;28;01mfor\u001b[39;00m key, value \u001b[38;5;129;01min\u001b[39;00m predictions\u001b[38;5;241m.\u001b[39mitems():\n",
      "File \u001b[0;32m~/Projects/ISSAI/Internship/aqua_rate/.venv/lib/python3.10/site-packages/neuralhydrology/evaluation/tester.py:476\u001b[0m, in \u001b[0;36mBaseTester._get_predictions_and_loss\u001b[0;34m(self, model, data)\u001b[0m\n\u001b[1;32m    474\u001b[0m \u001b[38;5;28;01mdef\u001b[39;00m \u001b[38;5;21m_get_predictions_and_loss\u001b[39m(\u001b[38;5;28mself\u001b[39m, model: BaseModel, data: Dict[\u001b[38;5;28mstr\u001b[39m, torch\u001b[38;5;241m.\u001b[39mTensor]) \u001b[38;5;241m-\u001b[39m\u001b[38;5;241m>\u001b[39m Tuple[torch\u001b[38;5;241m.\u001b[39mTensor, \u001b[38;5;28mfloat\u001b[39m]:\n\u001b[1;32m    475\u001b[0m     predictions \u001b[38;5;241m=\u001b[39m model(data)\n\u001b[0;32m--> 476\u001b[0m     _, all_losses \u001b[38;5;241m=\u001b[39m \u001b[38;5;28;43mself\u001b[39;49m\u001b[38;5;241;43m.\u001b[39;49m\u001b[43mloss_obj\u001b[49m\u001b[43m(\u001b[49m\u001b[43mpredictions\u001b[49m\u001b[43m,\u001b[49m\u001b[43m \u001b[49m\u001b[43mdata\u001b[49m\u001b[43m)\u001b[49m\n\u001b[1;32m    477\u001b[0m     \u001b[38;5;28;01mreturn\u001b[39;00m predictions, {k: v\u001b[38;5;241m.\u001b[39mitem() \u001b[38;5;28;01mfor\u001b[39;00m k, v \u001b[38;5;129;01min\u001b[39;00m all_losses\u001b[38;5;241m.\u001b[39mitems()}\n",
      "File \u001b[0;32m~/Projects/ISSAI/Internship/aqua_rate/.venv/lib/python3.10/site-packages/torch/nn/modules/module.py:1532\u001b[0m, in \u001b[0;36mModule._wrapped_call_impl\u001b[0;34m(self, *args, **kwargs)\u001b[0m\n\u001b[1;32m   1530\u001b[0m     \u001b[38;5;28;01mreturn\u001b[39;00m \u001b[38;5;28mself\u001b[39m\u001b[38;5;241m.\u001b[39m_compiled_call_impl(\u001b[38;5;241m*\u001b[39margs, \u001b[38;5;241m*\u001b[39m\u001b[38;5;241m*\u001b[39mkwargs)  \u001b[38;5;66;03m# type: ignore[misc]\u001b[39;00m\n\u001b[1;32m   1531\u001b[0m \u001b[38;5;28;01melse\u001b[39;00m:\n\u001b[0;32m-> 1532\u001b[0m     \u001b[38;5;28;01mreturn\u001b[39;00m \u001b[38;5;28;43mself\u001b[39;49m\u001b[38;5;241;43m.\u001b[39;49m\u001b[43m_call_impl\u001b[49m\u001b[43m(\u001b[49m\u001b[38;5;241;43m*\u001b[39;49m\u001b[43margs\u001b[49m\u001b[43m,\u001b[49m\u001b[43m \u001b[49m\u001b[38;5;241;43m*\u001b[39;49m\u001b[38;5;241;43m*\u001b[39;49m\u001b[43mkwargs\u001b[49m\u001b[43m)\u001b[49m\n",
      "File \u001b[0;32m~/Projects/ISSAI/Internship/aqua_rate/.venv/lib/python3.10/site-packages/torch/nn/modules/module.py:1541\u001b[0m, in \u001b[0;36mModule._call_impl\u001b[0;34m(self, *args, **kwargs)\u001b[0m\n\u001b[1;32m   1536\u001b[0m \u001b[38;5;66;03m# If we don't have any hooks, we want to skip the rest of the logic in\u001b[39;00m\n\u001b[1;32m   1537\u001b[0m \u001b[38;5;66;03m# this function, and just call forward.\u001b[39;00m\n\u001b[1;32m   1538\u001b[0m \u001b[38;5;28;01mif\u001b[39;00m \u001b[38;5;129;01mnot\u001b[39;00m (\u001b[38;5;28mself\u001b[39m\u001b[38;5;241m.\u001b[39m_backward_hooks \u001b[38;5;129;01mor\u001b[39;00m \u001b[38;5;28mself\u001b[39m\u001b[38;5;241m.\u001b[39m_backward_pre_hooks \u001b[38;5;129;01mor\u001b[39;00m \u001b[38;5;28mself\u001b[39m\u001b[38;5;241m.\u001b[39m_forward_hooks \u001b[38;5;129;01mor\u001b[39;00m \u001b[38;5;28mself\u001b[39m\u001b[38;5;241m.\u001b[39m_forward_pre_hooks\n\u001b[1;32m   1539\u001b[0m         \u001b[38;5;129;01mor\u001b[39;00m _global_backward_pre_hooks \u001b[38;5;129;01mor\u001b[39;00m _global_backward_hooks\n\u001b[1;32m   1540\u001b[0m         \u001b[38;5;129;01mor\u001b[39;00m _global_forward_hooks \u001b[38;5;129;01mor\u001b[39;00m _global_forward_pre_hooks):\n\u001b[0;32m-> 1541\u001b[0m     \u001b[38;5;28;01mreturn\u001b[39;00m \u001b[43mforward_call\u001b[49m\u001b[43m(\u001b[49m\u001b[38;5;241;43m*\u001b[39;49m\u001b[43margs\u001b[49m\u001b[43m,\u001b[49m\u001b[43m \u001b[49m\u001b[38;5;241;43m*\u001b[39;49m\u001b[38;5;241;43m*\u001b[39;49m\u001b[43mkwargs\u001b[49m\u001b[43m)\u001b[49m\n\u001b[1;32m   1543\u001b[0m \u001b[38;5;28;01mtry\u001b[39;00m:\n\u001b[1;32m   1544\u001b[0m     result \u001b[38;5;241m=\u001b[39m \u001b[38;5;28;01mNone\u001b[39;00m\n",
      "File \u001b[0;32m~/Projects/ISSAI/Internship/aqua_rate/.venv/lib/python3.10/site-packages/neuralhydrology/training/loss.py:120\u001b[0m, in \u001b[0;36mBaseLoss.forward\u001b[0;34m(self, prediction, data)\u001b[0m\n\u001b[1;32m    117\u001b[0m         \u001b[38;5;66;03m# model hook to subset additional data, which might be different for different losses\u001b[39;00m\n\u001b[1;32m    118\u001b[0m         kwargs_sub \u001b[38;5;241m=\u001b[39m \u001b[38;5;28mself\u001b[39m\u001b[38;5;241m.\u001b[39m_subset_additional_data(kwargs, n_target)\n\u001b[0;32m--> 120\u001b[0m         loss \u001b[38;5;241m=\u001b[39m \u001b[38;5;28;43mself\u001b[39;49m\u001b[38;5;241;43m.\u001b[39;49m\u001b[43m_get_loss\u001b[49m\u001b[43m(\u001b[49m\u001b[43mtarget_pred\u001b[49m\u001b[43m,\u001b[49m\u001b[43m \u001b[49m\u001b[43mtarget_gt\u001b[49m\u001b[43m,\u001b[49m\u001b[43m \u001b[49m\u001b[38;5;241;43m*\u001b[39;49m\u001b[38;5;241;43m*\u001b[39;49m\u001b[43mkwargs_sub\u001b[49m\u001b[43m)\u001b[49m\n\u001b[1;32m    121\u001b[0m         losses\u001b[38;5;241m.\u001b[39mappend(loss \u001b[38;5;241m*\u001b[39m weight)\n\u001b[1;32m    123\u001b[0m loss \u001b[38;5;241m=\u001b[39m torch\u001b[38;5;241m.\u001b[39msum(torch\u001b[38;5;241m.\u001b[39mstack(losses))\n",
      "File \u001b[0;32m~/Projects/ISSAI/Internship/aqua_rate/.venv/lib/python3.10/site-packages/neuralhydrology/training/loss.py:252\u001b[0m, in \u001b[0;36mMaskedNSELoss._get_loss\u001b[0;34m(self, prediction, ground_truth, **kwargs)\u001b[0m\n\u001b[1;32m    250\u001b[0m per_basin_target_stds \u001b[38;5;241m=\u001b[39m kwargs[\u001b[38;5;124m'\u001b[39m\u001b[38;5;124mper_basin_target_stds\u001b[39m\u001b[38;5;124m'\u001b[39m]\n\u001b[1;32m    251\u001b[0m \u001b[38;5;66;03m# expand dimension 1 to predict_last_n\u001b[39;00m\n\u001b[0;32m--> 252\u001b[0m per_basin_target_stds \u001b[38;5;241m=\u001b[39m \u001b[43mper_basin_target_stds\u001b[49m\u001b[38;5;241;43m.\u001b[39;49m\u001b[43mexpand_as\u001b[49m\u001b[43m(\u001b[49m\u001b[43mprediction\u001b[49m\u001b[43m[\u001b[49m\u001b[38;5;124;43m'\u001b[39;49m\u001b[38;5;124;43my_hat\u001b[39;49m\u001b[38;5;124;43m'\u001b[39;49m\u001b[43m]\u001b[49m\u001b[43m)\u001b[49m[mask]\n\u001b[1;32m    254\u001b[0m squared_error \u001b[38;5;241m=\u001b[39m (y_hat \u001b[38;5;241m-\u001b[39m y)\u001b[38;5;241m*\u001b[39m\u001b[38;5;241m*\u001b[39m\u001b[38;5;241m2\u001b[39m\n\u001b[1;32m    255\u001b[0m weights \u001b[38;5;241m=\u001b[39m \u001b[38;5;241m1\u001b[39m \u001b[38;5;241m/\u001b[39m (per_basin_target_stds \u001b[38;5;241m+\u001b[39m \u001b[38;5;28mself\u001b[39m\u001b[38;5;241m.\u001b[39meps)\u001b[38;5;241m*\u001b[39m\u001b[38;5;241m*\u001b[39m\u001b[38;5;241m2\u001b[39m\n",
      "\u001b[0;31mKeyboardInterrupt\u001b[0m: "
     ]
    }
   ],
   "source": [
    "eval_run(run_dir, period=\"train\", epoch=epoch)\n",
    "show_eval_results(\"train\", epoch=epoch_str)"
   ]
  },
  {
   "cell_type": "code",
   "execution_count": null,
   "metadata": {},
   "outputs": [
    {
     "name": "stdout",
     "output_type": "stream",
     "text": [
      "# Validation:  10%|▉         | 4/42 [00:00<00:09,  4.12it/s]"
     ]
    },
    {
     "name": "stderr",
     "output_type": "stream",
     "text": [
      "The following basins had not enough valid target values to calculate a standard deviation: 11163. NSE loss values for this basin will be NaN.\n"
     ]
    },
    {
     "name": "stdout",
     "output_type": "stream",
     "text": [
      "# Validation:  45%|████▌     | 19/42 [00:04<00:05,  4.11it/s]"
     ]
    },
    {
     "name": "stderr",
     "output_type": "stream",
     "text": [
      "The following basins had not enough valid target values to calculate a standard deviation: 13035. NSE loss values for this basin will be NaN.\n"
     ]
    },
    {
     "name": "stdout",
     "output_type": "stream",
     "text": [
      "# Validation:  67%|██████▋   | 28/42 [00:07<00:03,  4.03it/s]"
     ]
    },
    {
     "name": "stderr",
     "output_type": "stream",
     "text": [
      "The following basins had not enough valid target values to calculate a standard deviation: 19013. NSE loss values for this basin will be NaN.\n"
     ]
    },
    {
     "name": "stdout",
     "output_type": "stream",
     "text": [
      "# Validation: 100%|██████████| 42/42 [00:10<00:00,  3.96it/s]\n",
      "Median NSE of the validation period 0.352\n",
      "Mean NSE of the validation period 0.361\n",
      "            NSE\n",
      "basin          \n",
      "11001  0.585831\n",
      "11068 -0.384398\n",
      "11126  0.854831\n",
      "11129  0.764054\n",
      "11163       NaN\n",
      "11164  0.628861\n",
      "11275  0.008243\n",
      "11293  0.445322\n",
      "11397  0.074017\n",
      "11433  0.163400\n",
      "11469  0.737924\n",
      "12002  0.328793\n",
      "12008 -0.214038\n",
      "12032 -0.014399\n",
      "12072  0.308092\n",
      "12075  0.554264\n",
      "12564  0.351611\n",
      "13002  0.343412\n",
      "13005  0.310955\n",
      "13035       NaN\n",
      "13038  0.538745\n",
      "13048  0.325846\n",
      "13064  0.195148\n",
      "13090  0.760546\n",
      "13091  0.494310\n",
      "13115  0.540329\n",
      "13128  0.364835\n",
      "13221  0.357655\n",
      "19013       NaN\n",
      "19022  0.079550\n",
      "19195  0.224465\n",
      "19196  0.485065\n",
      "19205  0.395473\n",
      "19208  0.168145\n",
      "19218  0.329480\n",
      "19243  0.229327\n",
      "19289  0.247906\n",
      "19300  0.547841\n",
      "19302  0.711471\n",
      "19462  0.466795\n",
      "19463  0.461266\n",
      "77819  0.309240\n"
     ]
    }
   ],
   "source": [
    "eval_run(run_dir, period=\"validation\", epoch=epoch)\n",
    "show_eval_results(\"validation\", epoch=epoch_str)"
   ]
  },
  {
   "cell_type": "code",
   "execution_count": null,
   "metadata": {},
   "outputs": [
    {
     "name": "stdout",
     "output_type": "stream",
     "text": [
      "# Evaluation:  10%|▉         | 4/42 [00:00<00:09,  4.12it/s]"
     ]
    },
    {
     "name": "stderr",
     "output_type": "stream",
     "text": [
      "The following basins had not enough valid target values to calculate a standard deviation: 11163. NSE loss values for this basin will be NaN.\n"
     ]
    },
    {
     "name": "stdout",
     "output_type": "stream",
     "text": [
      "# Evaluation:  45%|████▌     | 19/42 [00:04<00:05,  4.03it/s]"
     ]
    },
    {
     "name": "stderr",
     "output_type": "stream",
     "text": [
      "The following basins had not enough valid target values to calculate a standard deviation: 13035. NSE loss values for this basin will be NaN.\n"
     ]
    },
    {
     "name": "stdout",
     "output_type": "stream",
     "text": [
      "# Evaluation:  67%|██████▋   | 28/42 [00:07<00:03,  4.07it/s]"
     ]
    },
    {
     "name": "stderr",
     "output_type": "stream",
     "text": [
      "The following basins had not enough valid target values to calculate a standard deviation: 19013. NSE loss values for this basin will be NaN.\n"
     ]
    },
    {
     "name": "stdout",
     "output_type": "stream",
     "text": [
      "# Evaluation: 100%|██████████| 42/42 [00:10<00:00,  3.95it/s]\n",
      "Median NSE of the test period -0.000\n",
      "Mean NSE of the test period -56.034\n",
      "               NSE\n",
      "basin             \n",
      "11001     0.681770\n",
      "11068    -1.040793\n",
      "11126     0.783455\n",
      "11129     0.742770\n",
      "11163          NaN\n",
      "11164     0.728758\n",
      "11275     0.031301\n",
      "11293     0.525794\n",
      "11397     0.060387\n",
      "11433     0.403923\n",
      "11469     0.828736\n",
      "12002    -0.769617\n",
      "12008    -5.358892\n",
      "12032    -0.111583\n",
      "12072    -0.000325\n",
      "12075    -0.820714\n",
      "12564     0.044145\n",
      "13002    -0.410889\n",
      "13005     0.326431\n",
      "13035          NaN\n",
      "13038 -1796.698364\n",
      "13048     0.102794\n",
      "13064     0.276326\n",
      "13090     0.427330\n",
      "13091     0.398711\n",
      "13115     0.592826\n",
      "13128     0.210627\n",
      "13221     0.110321\n",
      "19013          NaN\n",
      "19022    -7.104419\n",
      "19195    -1.616225\n",
      "19196   -10.348888\n",
      "19205    -1.253524\n",
      "19208    -1.192095\n",
      "19218    -8.354615\n",
      "19243   -59.410980\n",
      "19289   -20.666443\n",
      "19300    -1.938063\n",
      "19302    -5.080658\n",
      "19462   -11.104247\n",
      "19463  -259.757690\n",
      "77819     0.422217\n"
     ]
    }
   ],
   "source": [
    "eval_run(run_dir, period=\"test\", epoch=epoch)\n",
    "show_eval_results(\"test\", epoch=epoch_str)"
   ]
  }
 ],
 "metadata": {
  "kernelspec": {
   "display_name": ".venv",
   "language": "python",
   "name": "python3"
  },
  "language_info": {
   "codemirror_mode": {
    "name": "ipython",
    "version": 3
   },
   "file_extension": ".py",
   "mimetype": "text/x-python",
   "name": "python",
   "nbconvert_exporter": "python",
   "pygments_lexer": "ipython3",
   "version": "3.10.12"
  }
 },
 "nbformat": 4,
 "nbformat_minor": 2
}
