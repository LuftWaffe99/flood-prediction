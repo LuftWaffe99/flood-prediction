{
 "cells": [
  {
   "cell_type": "code",
   "execution_count": 1,
   "metadata": {},
   "outputs": [],
   "source": [
    "# Imports\n",
    "from pathlib import Path\n",
    "\n",
    "import pandas as pd\n",
    "import torch\n",
    "from neuralhydrology.nh_run import start_run, eval_run, finetune"
   ]
  },
  {
   "cell_type": "code",
   "execution_count": 2,
   "metadata": {},
   "outputs": [
    {
     "name": "stdout",
     "output_type": "stream",
     "text": [
      "2024-06-28 13:08:43,062: Logging to /home/spectre/Projects/ISSAI/Internship/aqua_rate/train/runs/cudalstm_531_basins_2806_130843/output.log initialized.\n",
      "2024-06-28 13:08:43,063: ### Folder structure created at /home/spectre/Projects/ISSAI/Internship/aqua_rate/train/runs/cudalstm_531_basins_2806_130843\n",
      "2024-06-28 13:08:43,063: ### Run configurations for cudalstm_531_basins\n",
      "2024-06-28 13:08:43,063: experiment_name: cudalstm_531_basins\n",
      "2024-06-28 13:08:43,063: run_dir: /home/spectre/Projects/ISSAI/Internship/aqua_rate/train/runs/cudalstm_531_basins_2806_130843\n",
      "2024-06-28 13:08:43,064: train_basin_file: basins.txt\n",
      "2024-06-28 13:08:43,064: validation_basin_file: basins.txt\n",
      "2024-06-28 13:08:43,064: test_basin_file: basins.txt\n",
      "2024-06-28 13:08:43,065: train_start_date: 2000-01-01 00:00:00\n",
      "2024-06-28 13:08:43,065: train_end_date: 2014-12-31 00:00:00\n",
      "2024-06-28 13:08:43,065: validation_start_date: 2015-01-01 00:00:00\n",
      "2024-06-28 13:08:43,065: validation_end_date: 2016-12-31 00:00:00\n",
      "2024-06-28 13:08:43,066: test_start_date: 2017-01-01 00:00:00\n",
      "2024-06-28 13:08:43,066: test_end_date: 2021-12-31 00:00:00\n",
      "2024-06-28 13:08:43,067: seed: 123\n",
      "2024-06-28 13:08:43,067: device: cuda:0\n",
      "2024-06-28 13:08:43,067: validate_every: 1\n",
      "2024-06-28 13:08:43,068: validate_n_random_basins: 42\n",
      "2024-06-28 13:08:43,068: metrics: ['NSE']\n",
      "2024-06-28 13:08:43,068: model: cudalstm\n",
      "2024-06-28 13:08:43,069: head: regression\n",
      "2024-06-28 13:08:43,069: hidden_size: 128\n",
      "2024-06-28 13:08:43,069: initial_forget_bias: 3\n",
      "2024-06-28 13:08:43,069: output_dropout: 0.4\n",
      "2024-06-28 13:08:43,070: output_activation: linear\n",
      "2024-06-28 13:08:43,070: optimizer: Adam\n",
      "2024-06-28 13:08:43,070: loss: NSE\n",
      "2024-06-28 13:08:43,071: learning_rate: {0: 0.01, 1: 0.001, 20: 0.0001, 35: 1e-05}\n",
      "2024-06-28 13:08:43,071: batch_size: 256\n",
      "2024-06-28 13:08:43,071: epochs: 30\n",
      "2024-06-28 13:08:43,072: clip_gradient_norm: 1\n",
      "2024-06-28 13:08:43,072: predict_last_n: 1\n",
      "2024-06-28 13:08:43,072: seq_length: 365\n",
      "2024-06-28 13:08:43,073: num_workers: 8\n",
      "2024-06-28 13:08:43,073: log_interval: 5\n",
      "2024-06-28 13:08:43,073: log_tensorboard: True\n",
      "2024-06-28 13:08:43,074: save_weights_every: 1\n",
      "2024-06-28 13:08:43,074: save_validation_results: True\n",
      "2024-06-28 13:08:43,074: dataset: generic\n",
      "2024-06-28 13:08:43,074: data_dir: ../data/CAMELS_KZ\n",
      "2024-06-28 13:08:43,075: dynamic_inputs: ['prcp', 'srad', 't_max', 't_min', 'pp_mean']\n",
      "2024-06-28 13:08:43,075: target_variables: ['discharge']\n",
      "2024-06-28 13:08:43,076: static_attributes: ['elev_mean', 'slope_mean', 'area_gages2', 'forest_frac', 'lai_max', 'lai_diff', 'gvf_max', 'gvf_diff', 'soil_conductivity', 'max_water_content', 'sand_frac', 'silt_frac', 'clay_frac', 'p_mean', 'pet_mean', 'aridity', 'frac_snow_daily', 'high_prec_freq', 'high_prec_dur', 'low_prec_freq', 'low_prec_dur']\n",
      "2024-06-28 13:08:43,076: number_of_basins: 42\n",
      "2024-06-28 13:08:43,076: train_dir: /home/spectre/Projects/ISSAI/Internship/aqua_rate/train/runs/cudalstm_531_basins_2806_130843/train_data\n",
      "2024-06-28 13:08:43,076: img_log_dir: /home/spectre/Projects/ISSAI/Internship/aqua_rate/train/runs/cudalstm_531_basins_2806_130843/img_log\n",
      "2024-06-28 13:08:43,090: ### Device cuda:0 will be used for training\n",
      "2024-06-28 13:08:43,102: Loading basin data into xarray data set.\n",
      "100%|██████████| 42/42 [00:00<00:00, 55.69it/s]\n",
      "2024-06-28 13:08:43,877: Calculating target variable stds per basin\n",
      "100%|██████████| 42/42 [00:00<00:00, 2366.10it/s]\n",
      "2024-06-28 13:08:43,896: The following basins had not enough valid target values to calculate a standard deviation: 13005, 13035, 19013. NSE loss values for this basin will be NaN.\n",
      "2024-06-28 13:08:43,908: Create lookup table and convert to pytorch tensor\n",
      "100%|██████████| 42/42 [00:02<00:00, 20.28it/s]\n",
      "2024-06-28 13:08:45,980: These basins do not have a single valid sample in the train period: ['13005', '13035', '19013']\n",
      "2024-06-28 13:08:46,448: Setting learning rate to 0.001\n",
      "# Epoch 1:  60%|██████    | 293/488 [00:08<00:05, 35.64it/s, Loss: 0.0001]\n"
     ]
    },
    {
     "ename": "KeyboardInterrupt",
     "evalue": "",
     "output_type": "error",
     "traceback": [
      "\u001b[0;31m---------------------------------------------------------------------------\u001b[0m",
      "\u001b[0;31mKeyboardInterrupt\u001b[0m                         Traceback (most recent call last)",
      "Cell \u001b[0;32mIn[2], line 4\u001b[0m\n\u001b[1;32m      1\u001b[0m \u001b[38;5;66;03m# by default we assume that you have at least one CUDA-capable NVIDIA GPU\u001b[39;00m\n\u001b[1;32m      2\u001b[0m \u001b[38;5;28;01mif\u001b[39;00m torch\u001b[38;5;241m.\u001b[39mcuda\u001b[38;5;241m.\u001b[39mis_available():\n\u001b[0;32m----> 4\u001b[0m     \u001b[43mstart_run\u001b[49m\u001b[43m(\u001b[49m\u001b[43mconfig_file\u001b[49m\u001b[38;5;241;43m=\u001b[39;49m\u001b[43mPath\u001b[49m\u001b[43m(\u001b[49m\u001b[38;5;124;43m\"\u001b[39;49m\u001b[38;5;124;43mkz_basins.yml\u001b[39;49m\u001b[38;5;124;43m\"\u001b[39;49m\u001b[43m)\u001b[49m\u001b[43m)\u001b[49m\n\u001b[1;32m      6\u001b[0m \u001b[38;5;66;03m# fall back to CPU-only mode\u001b[39;00m\n\u001b[1;32m      7\u001b[0m \u001b[38;5;28;01melse\u001b[39;00m:\n\u001b[1;32m      8\u001b[0m     start_run(config_file\u001b[38;5;241m=\u001b[39mPath(\u001b[38;5;124m\"\u001b[39m\u001b[38;5;124mkz_basins.yml\u001b[39m\u001b[38;5;124m\"\u001b[39m), gpu\u001b[38;5;241m=\u001b[39m\u001b[38;5;241m-\u001b[39m\u001b[38;5;241m1\u001b[39m)\n",
      "File \u001b[0;32m~/Projects/ISSAI/Internship/aqua_rate/.venv/lib/python3.10/site-packages/neuralhydrology/nh_run.py:76\u001b[0m, in \u001b[0;36mstart_run\u001b[0;34m(config_file, gpu)\u001b[0m\n\u001b[1;32m     73\u001b[0m \u001b[38;5;28;01mif\u001b[39;00m gpu \u001b[38;5;129;01mis\u001b[39;00m \u001b[38;5;129;01mnot\u001b[39;00m \u001b[38;5;28;01mNone\u001b[39;00m \u001b[38;5;129;01mand\u001b[39;00m gpu \u001b[38;5;241m<\u001b[39m \u001b[38;5;241m0\u001b[39m:\n\u001b[1;32m     74\u001b[0m     config\u001b[38;5;241m.\u001b[39mdevice \u001b[38;5;241m=\u001b[39m \u001b[38;5;124m\"\u001b[39m\u001b[38;5;124mcpu\u001b[39m\u001b[38;5;124m\"\u001b[39m\n\u001b[0;32m---> 76\u001b[0m \u001b[43mstart_training\u001b[49m\u001b[43m(\u001b[49m\u001b[43mconfig\u001b[49m\u001b[43m)\u001b[49m\n",
      "File \u001b[0;32m~/Projects/ISSAI/Internship/aqua_rate/.venv/lib/python3.10/site-packages/neuralhydrology/training/train.py:20\u001b[0m, in \u001b[0;36mstart_training\u001b[0;34m(cfg)\u001b[0m\n\u001b[1;32m     18\u001b[0m     \u001b[38;5;28;01mraise\u001b[39;00m \u001b[38;5;167;01mValueError\u001b[39;00m(\u001b[38;5;124mf\u001b[39m\u001b[38;5;124m\"\u001b[39m\u001b[38;5;124mUnknown head \u001b[39m\u001b[38;5;132;01m{\u001b[39;00mcfg\u001b[38;5;241m.\u001b[39mhead\u001b[38;5;132;01m}\u001b[39;00m\u001b[38;5;124m.\u001b[39m\u001b[38;5;124m\"\u001b[39m)\n\u001b[1;32m     19\u001b[0m trainer\u001b[38;5;241m.\u001b[39minitialize_training()\n\u001b[0;32m---> 20\u001b[0m \u001b[43mtrainer\u001b[49m\u001b[38;5;241;43m.\u001b[39;49m\u001b[43mtrain_and_validate\u001b[49m\u001b[43m(\u001b[49m\u001b[43m)\u001b[49m\n",
      "File \u001b[0;32m~/Projects/ISSAI/Internship/aqua_rate/.venv/lib/python3.10/site-packages/neuralhydrology/training/basetrainer.py:214\u001b[0m, in \u001b[0;36mBaseTrainer.train_and_validate\u001b[0;34m(self)\u001b[0m\n\u001b[1;32m    211\u001b[0m     \u001b[38;5;28;01mfor\u001b[39;00m param_group \u001b[38;5;129;01min\u001b[39;00m \u001b[38;5;28mself\u001b[39m\u001b[38;5;241m.\u001b[39moptimizer\u001b[38;5;241m.\u001b[39mparam_groups:\n\u001b[1;32m    212\u001b[0m         param_group[\u001b[38;5;124m\"\u001b[39m\u001b[38;5;124mlr\u001b[39m\u001b[38;5;124m\"\u001b[39m] \u001b[38;5;241m=\u001b[39m \u001b[38;5;28mself\u001b[39m\u001b[38;5;241m.\u001b[39mcfg\u001b[38;5;241m.\u001b[39mlearning_rate[epoch]\n\u001b[0;32m--> 214\u001b[0m \u001b[38;5;28;43mself\u001b[39;49m\u001b[38;5;241;43m.\u001b[39;49m\u001b[43m_train_epoch\u001b[49m\u001b[43m(\u001b[49m\u001b[43mepoch\u001b[49m\u001b[38;5;241;43m=\u001b[39;49m\u001b[43mepoch\u001b[49m\u001b[43m)\u001b[49m\n\u001b[1;32m    215\u001b[0m avg_losses \u001b[38;5;241m=\u001b[39m \u001b[38;5;28mself\u001b[39m\u001b[38;5;241m.\u001b[39mexperiment_logger\u001b[38;5;241m.\u001b[39msummarise()\n\u001b[1;32m    216\u001b[0m loss_str \u001b[38;5;241m=\u001b[39m \u001b[38;5;124m\"\u001b[39m\u001b[38;5;124m, \u001b[39m\u001b[38;5;124m\"\u001b[39m\u001b[38;5;241m.\u001b[39mjoin(\u001b[38;5;124mf\u001b[39m\u001b[38;5;124m\"\u001b[39m\u001b[38;5;132;01m{\u001b[39;00mk\u001b[38;5;132;01m}\u001b[39;00m\u001b[38;5;124m: \u001b[39m\u001b[38;5;132;01m{\u001b[39;00mv\u001b[38;5;132;01m:\u001b[39;00m\u001b[38;5;124m.5f\u001b[39m\u001b[38;5;132;01m}\u001b[39;00m\u001b[38;5;124m\"\u001b[39m \u001b[38;5;28;01mfor\u001b[39;00m k, v \u001b[38;5;129;01min\u001b[39;00m avg_losses\u001b[38;5;241m.\u001b[39mitems())\n",
      "File \u001b[0;32m~/Projects/ISSAI/Internship/aqua_rate/.venv/lib/python3.10/site-packages/neuralhydrology/training/basetrainer.py:327\u001b[0m, in \u001b[0;36mBaseTrainer._train_epoch\u001b[0;34m(self, epoch)\u001b[0m\n\u001b[1;32m    324\u001b[0m     \u001b[38;5;66;03m# update weights\u001b[39;00m\n\u001b[1;32m    325\u001b[0m     \u001b[38;5;28mself\u001b[39m\u001b[38;5;241m.\u001b[39moptimizer\u001b[38;5;241m.\u001b[39mstep()\n\u001b[0;32m--> 327\u001b[0m pbar\u001b[38;5;241m.\u001b[39mset_postfix_str(\u001b[38;5;124mf\u001b[39m\u001b[38;5;124m\"\u001b[39m\u001b[38;5;124mLoss: \u001b[39m\u001b[38;5;132;01m{\u001b[39;00m\u001b[43mloss\u001b[49m\u001b[38;5;241;43m.\u001b[39;49m\u001b[43mitem\u001b[49m\u001b[43m(\u001b[49m\u001b[43m)\u001b[49m\u001b[38;5;132;01m:\u001b[39;00m\u001b[38;5;124m.4f\u001b[39m\u001b[38;5;132;01m}\u001b[39;00m\u001b[38;5;124m\"\u001b[39m)\n\u001b[1;32m    329\u001b[0m \u001b[38;5;28mself\u001b[39m\u001b[38;5;241m.\u001b[39mexperiment_logger\u001b[38;5;241m.\u001b[39mlog_step(\u001b[38;5;241m*\u001b[39m\u001b[38;5;241m*\u001b[39m{k: v\u001b[38;5;241m.\u001b[39mitem() \u001b[38;5;28;01mfor\u001b[39;00m k, v \u001b[38;5;129;01min\u001b[39;00m all_losses\u001b[38;5;241m.\u001b[39mitems()})\n",
      "\u001b[0;31mKeyboardInterrupt\u001b[0m: "
     ]
    }
   ],
   "source": [
    "# by default we assume that you have at least one CUDA-capable NVIDIA GPU\n",
    "if torch.cuda.is_available():\n",
    "    \n",
    "    start_run(config_file=Path(\"kz_basins.yml\"))\n",
    "\n",
    "# fall back to CPU-only mode\n",
    "else:\n",
    "    start_run(config_file=Path(\"kz_basins.yml\"), gpu=-1)"
   ]
  },
  {
   "cell_type": "code",
   "execution_count": 5,
   "metadata": {},
   "outputs": [
    {
     "name": "stdout",
     "output_type": "stream",
     "text": [
      "Median NSE of the validation period 0.372\n",
      "Selected basin: 77819 with an NSE of -0.346\n"
     ]
    }
   ],
   "source": [
    "# Load validation results from the last epoch\n",
    "import os\n",
    "\n",
    "\n",
    "run_dir = Path(f\"./runs/{sorted(os.listdir('./runs'))[-1]}\")\n",
    "df = pd.read_csv(run_dir / \"validation\" / \"model_epoch028\" / \"validation_metrics.csv\", dtype={'basin': str})\n",
    "df = df.set_index('basin')\n",
    "\n",
    "# Compute the median NSE from all basins, where discharge observations are available for that period\n",
    "print(f\"Median NSE of the validation period {df['NSE'].median():.3f}\")\n",
    "\n",
    "# Select a random basins from the lower 50% of the NSE distribution\n",
    "basin = df.loc[df[\"NSE\"] < df[\"NSE\"].median()].sample(n=1).index[0]\n",
    "\n",
    "print(f\"Selected basin: {basin} with an NSE of {df.loc[df.index == basin, 'NSE'].values[0]:.3f}\")"
   ]
  },
  {
   "cell_type": "markdown",
   "metadata": {},
   "source": [
    "## Finetuning\n",
    "\n",
    "Next, we will show how to perform finetuning for the basin selected above, based on the model we just trained. The function to use is `finetune` from `neuralhydrology.nh_run` if you want to train from within a script or notebook. If you want to start finetuning from the command line, you can also call the `nh-run` utility with the `finetune` argument, instead of e.g. `train` or `evaluate`.\n",
    "\n",
    "The only thing required, similar to the model training itself, is a config file. This config however has slightly different requirements to a normal model config and works slightly different:\n",
    "- The config has to contain the following two arguments:\n",
    "    - `base_run_dir`: The path to the directory of the pre-trained model.\n",
    "    - `finetune_modules`: Which parts of the pre-trained model you want to finetune. Check the documentation of each model class for a list of all possible parts. Often only parts, e.g. the output layer, are trained during finetuning and the rest is kept fixed. There is no general rule of thumb and most likely you will have to try both.\n",
    "- Any additional argument contained in this config will overwrite the config argument of the pre-trained model. Everything _not_ specified will be taken from the pre-trained model. That is, you can e.g. specify a new basin file in the finetuning config (by `train_basin_file`) to finetune the pre-trained model on a different set of basins, or even just a single basin as we will do in this notebook. You can also change the learning rate, loss function, evaluation metrics and so on. The only thing you can not change are arguments that change the model architecture (e.g. `model`, `hidden_size` etc.), because this leads to errors when you try to load the pre-trained weights into the initialized model.\n",
    "\n",
    "Let's have a look at the `finetune.yml` config that we prepared for this tutorial (you can find the file in the same directory as this notebook)."
   ]
  },
  {
   "cell_type": "code",
   "execution_count": 6,
   "metadata": {},
   "outputs": [
    {
     "name": "stdout",
     "output_type": "stream",
     "text": [
      "# --- Experiment configurations --------------------------------------------------------------------\n",
      "\n",
      "# experiment name, used as folder name\n",
      "experiment_name: cudalstm_531_basins_finetuned\n",
      "\n",
      "# files to specify training, validation and test basins (relative to code root or absolute path)\n",
      "train_basin_file: finetune_basin.txt\n",
      "validation_basin_file: finetune_basin.txt\n",
      "test_basin_file: finetune_basin.txt\n",
      "\n",
      "# --- Training configuration -----------------------------------------------------------------------\n",
      "\n",
      "# specify learning rates to use starting at specific epochs (0 is the initial learning rate)\n",
      "learning_rate:\n",
      "    0: 5e-4\n",
      "    2: 5e-5\t\n",
      "\n",
      "# Number of training epochs\n",
      "epochs: 10\n",
      "\n",
      "finetune_modules:\n",
      "- head\n",
      "- lstm\n",
      "\n",
      "base_run_dir: /home/spectre/Projects/ISSAI/Internship/aqua_rate/test_train_25_06_24/runs/cudalstm_531_basins_2506_183200"
     ]
    }
   ],
   "source": [
    "!cat finetune.yml"
   ]
  },
  {
   "cell_type": "markdown",
   "metadata": {},
   "source": [
    "So out of the two arguments that are required, `base_run_dir` is still missing. We will add the argument from here and point at the directory of the model we just trained. Furthermore, we point to a new file for training, validation and testing, called `finetune_basin.txt`, which does not yet exist. We will create this file and add the basin we selected above as the only basin we want to use here. The rest are some changes to the learning rate and the number of training epochs as well as a new name. Also note that here, we train the full model, by selecting all model parts available for the `CudaLSTM` under `finetune_modules`."
   ]
  },
  {
   "cell_type": "code",
   "execution_count": 20,
   "metadata": {},
   "outputs": [],
   "source": [
    "# Add the path to the pre-trained model to the finetune config\n",
    "with open(\"finetune.yml\", \"a\") as fp:\n",
    "    fp.write(f\"\\nbase_run_dir: {run_dir.absolute()}\")\n",
    "    \n",
    "# Create a basin file with the basin we selected above\n",
    "with open(\"finetune_basin.txt\", \"w\") as fp:\n",
    "    fp.write(basin)"
   ]
  },
  {
   "cell_type": "markdown",
   "metadata": {},
   "source": [
    "With that, we are ready to start the finetuning. As mentioned above, we have two options to start finetuning:\n",
    "1. Call the `finetune()` function from a different Python script or a Jupyter Notebook with the path to the config.\n",
    "2. Start the finetuning from the command line by calling\n",
    "\n",
    "```bash\n",
    "nh-run finetune --config-file /path/to/config.yml\n",
    "```\n",
    "\n",
    "Here, we will use the first option."
   ]
  },
  {
   "cell_type": "code",
   "execution_count": 24,
   "metadata": {
    "scrolled": false
   },
   "outputs": [
    {
     "name": "stdout",
     "output_type": "stream",
     "text": [
      "2024-06-28 13:02:46,258: Logging to /home/spectre/Projects/ISSAI/Internship/aqua_rate/test_train_25_06_24/runs/cudalstm_531_basins_finetuned_2806_130246/output.log initialized.\n",
      "2024-06-28 13:02:46,259: ### Folder structure created at /home/spectre/Projects/ISSAI/Internship/aqua_rate/test_train_25_06_24/runs/cudalstm_531_basins_finetuned_2806_130246\n",
      "2024-06-28 13:02:46,259: ### Start finetuning with pretrained model stored in /home/spectre/Projects/ISSAI/Internship/aqua_rate/test_train_25_06_24/runs/cudalstm_531_basins_2806_124648\n",
      "2024-06-28 13:02:46,260: ### Run configurations for cudalstm_531_basins_finetuned\n",
      "2024-06-28 13:02:46,260: batch_size: 256\n",
      "2024-06-28 13:02:46,261: clip_gradient_norm: 1\n",
      "2024-06-28 13:02:46,261: commit_hash: 44bd92d\n",
      "2024-06-28 13:02:46,262: data_dir: ../data/CAMELS_KZ\n",
      "2024-06-28 13:02:46,262: dataset: generic\n",
      "2024-06-28 13:02:46,263: device: cuda:0\n",
      "2024-06-28 13:02:46,263: dynamic_inputs: ['prcp', 'srad', 't_max', 't_min', 'pp_mean']\n",
      "2024-06-28 13:02:46,263: epochs: 100\n",
      "2024-06-28 13:02:46,264: experiment_name: cudalstm_531_basins_finetuned\n",
      "2024-06-28 13:02:46,264: head: regression\n",
      "2024-06-28 13:02:46,265: hidden_size: 128\n",
      "2024-06-28 13:02:46,265: img_log_dir: /home/spectre/Projects/ISSAI/Internship/aqua_rate/test_train_25_06_24/runs/cudalstm_531_basins_finetuned_2806_130246/img_log\n",
      "2024-06-28 13:02:46,266: initial_forget_bias: 3\n",
      "2024-06-28 13:02:46,266: learning_rate: {0: 0.0001, 5: 5e-06}\n",
      "2024-06-28 13:02:46,266: log_interval: 5\n",
      "2024-06-28 13:02:46,267: log_tensorboard: True\n",
      "2024-06-28 13:02:46,267: loss: NSE\n",
      "2024-06-28 13:02:46,268: metrics: ['NSE']\n",
      "2024-06-28 13:02:46,268: model: cudalstm\n",
      "2024-06-28 13:02:46,268: num_workers: 8\n",
      "2024-06-28 13:02:46,269: number_of_basins: 1\n",
      "2024-06-28 13:02:46,269: optimizer: Adam\n",
      "2024-06-28 13:02:46,270: output_activation: linear\n",
      "2024-06-28 13:02:46,270: output_dropout: 0.4\n",
      "2024-06-28 13:02:46,270: package_version: 1.10.0\n",
      "2024-06-28 13:02:46,271: predict_last_n: 1\n",
      "2024-06-28 13:02:46,271: run_dir: /home/spectre/Projects/ISSAI/Internship/aqua_rate/test_train_25_06_24/runs/cudalstm_531_basins_finetuned_2806_130246\n",
      "2024-06-28 13:02:46,272: save_validation_results: True\n",
      "2024-06-28 13:02:46,272: save_weights_every: 1\n",
      "2024-06-28 13:02:46,273: seed: 123\n",
      "2024-06-28 13:02:46,273: seq_length: 365\n",
      "2024-06-28 13:02:46,273: static_attributes: ['elev_mean', 'slope_mean', 'area_gages2', 'forest_frac', 'lai_max', 'lai_diff', 'gvf_max', 'gvf_diff', 'soil_conductivity', 'max_water_content', 'sand_frac', 'silt_frac', 'clay_frac', 'p_mean', 'pet_mean', 'aridity', 'frac_snow_daily', 'high_prec_freq', 'high_prec_dur', 'low_prec_freq', 'low_prec_dur']\n",
      "2024-06-28 13:02:46,274: target_variables: ['discharge']\n",
      "2024-06-28 13:02:46,274: test_basin_file: finetune_basin.txt\n",
      "2024-06-28 13:02:46,274: test_end_date: 2024-09-30 00:00:00\n",
      "2024-06-28 13:02:46,275: test_start_date: 2020-10-01 00:00:00\n",
      "2024-06-28 13:02:46,275: train_basin_file: finetune_basin.txt\n",
      "2024-06-28 13:02:46,276: train_dir: /home/spectre/Projects/ISSAI/Internship/aqua_rate/test_train_25_06_24/runs/cudalstm_531_basins_finetuned_2806_130246/train_data\n",
      "2024-06-28 13:02:46,276: train_end_date: 2015-09-30 00:00:00\n",
      "2024-06-28 13:02:46,277: train_start_date: 2000-01-01 00:00:00\n",
      "2024-06-28 13:02:46,277: validate_every: 1\n",
      "2024-06-28 13:02:46,277: validate_n_random_basins: 42\n",
      "2024-06-28 13:02:46,278: validation_basin_file: finetune_basin.txt\n",
      "2024-06-28 13:02:46,278: validation_end_date: 2019-09-30 00:00:00\n",
      "2024-06-28 13:02:46,278: validation_start_date: 2015-10-01 00:00:00\n",
      "2024-06-28 13:02:46,278: finetune_modules: ['head', 'lstm']\n",
      "2024-06-28 13:02:46,279: base_run_dir: /home/spectre/Projects/ISSAI/Internship/aqua_rate/test_train_25_06_24/runs/cudalstm_531_basins_2806_124648\n",
      "2024-06-28 13:02:46,279: is_finetuning: True\n",
      "2024-06-28 13:02:46,279: is_continue_training: False\n",
      "2024-06-28 13:02:46,280: ### Device cuda:0 will be used for training\n",
      "2024-06-28 13:02:46,292: Loading basin data into xarray data set.\n",
      "100%|██████████| 1/1 [00:00<00:00, 49.13it/s]\n",
      "2024-06-28 13:02:46,316: Calculating target variable stds per basin\n",
      "100%|██████████| 1/1 [00:00<00:00, 917.59it/s]\n",
      "2024-06-28 13:02:46,319: Create lookup table and convert to pytorch tensor\n",
      "100%|██████████| 1/1 [00:00<00:00, 57.90it/s]\n",
      "2024-06-28 13:02:46,353: Starting training from checkpoint /home/spectre/Projects/ISSAI/Internship/aqua_rate/test_train_25_06_24/runs/cudalstm_531_basins_2806_124648/model_epoch030.pt\n",
      "# Epoch 1: 100%|██████████| 8/8 [00:00<00:00, 19.29it/s, Loss: 0.0000]\n",
      "2024-06-28 13:02:46,784: Epoch 1 average loss: avg_loss: 0.00000, avg_total_loss: 0.00000\n",
      "# Validation: 100%|██████████| 1/1 [00:00<00:00,  8.84it/s]\n",
      "2024-06-28 13:02:46,903: Stored metrics at /home/spectre/Projects/ISSAI/Internship/aqua_rate/test_train_25_06_24/runs/cudalstm_531_basins_finetuned_2806_130246/validation/model_epoch001/validation_metrics.csv\n",
      "2024-06-28 13:02:46,904: Stored results at /home/spectre/Projects/ISSAI/Internship/aqua_rate/test_train_25_06_24/runs/cudalstm_531_basins_finetuned_2806_130246/validation/model_epoch001/validation_results.p\n",
      "2024-06-28 13:02:46,905: Epoch 1 average validation loss: 0.00002 -- Median validation metrics: avg_loss: 0.00002, NSE: -0.72469\n",
      "# Epoch 2: 100%|██████████| 8/8 [00:00<00:00, 20.82it/s, Loss: 0.0000]\n",
      "2024-06-28 13:02:47,292: Epoch 2 average loss: avg_loss: 0.00001, avg_total_loss: 0.00001\n",
      "# Validation: 100%|██████████| 1/1 [00:00<00:00, 12.80it/s]\n",
      "2024-06-28 13:02:47,376: Stored metrics at /home/spectre/Projects/ISSAI/Internship/aqua_rate/test_train_25_06_24/runs/cudalstm_531_basins_finetuned_2806_130246/validation/model_epoch002/validation_metrics.csv\n",
      "2024-06-28 13:02:47,376: Stored results at /home/spectre/Projects/ISSAI/Internship/aqua_rate/test_train_25_06_24/runs/cudalstm_531_basins_finetuned_2806_130246/validation/model_epoch002/validation_results.p\n",
      "2024-06-28 13:02:47,377: Epoch 2 average validation loss: 0.00003 -- Median validation metrics: avg_loss: 0.00003, NSE: -1.04703\n",
      "# Epoch 3: 100%|██████████| 8/8 [00:00<00:00, 20.30it/s, Loss: 0.0000]\n",
      "2024-06-28 13:02:47,774: Epoch 3 average loss: avg_loss: 0.00001, avg_total_loss: 0.00001\n",
      "# Validation: 100%|██████████| 1/1 [00:00<00:00, 13.00it/s]\n",
      "2024-06-28 13:02:47,856: Stored metrics at /home/spectre/Projects/ISSAI/Internship/aqua_rate/test_train_25_06_24/runs/cudalstm_531_basins_finetuned_2806_130246/validation/model_epoch003/validation_metrics.csv\n",
      "2024-06-28 13:02:47,857: Stored results at /home/spectre/Projects/ISSAI/Internship/aqua_rate/test_train_25_06_24/runs/cudalstm_531_basins_finetuned_2806_130246/validation/model_epoch003/validation_results.p\n",
      "2024-06-28 13:02:47,857: Epoch 3 average validation loss: 0.00003 -- Median validation metrics: avg_loss: 0.00003, NSE: -0.95814\n",
      "# Epoch 4: 100%|██████████| 8/8 [00:00<00:00, 19.80it/s, Loss: 0.0000]\n",
      "2024-06-28 13:02:48,264: Epoch 4 average loss: avg_loss: 0.00001, avg_total_loss: 0.00001\n",
      "# Validation: 100%|██████████| 1/1 [00:00<00:00, 12.92it/s]\n",
      "2024-06-28 13:02:48,347: Stored metrics at /home/spectre/Projects/ISSAI/Internship/aqua_rate/test_train_25_06_24/runs/cudalstm_531_basins_finetuned_2806_130246/validation/model_epoch004/validation_metrics.csv\n",
      "2024-06-28 13:02:48,348: Stored results at /home/spectre/Projects/ISSAI/Internship/aqua_rate/test_train_25_06_24/runs/cudalstm_531_basins_finetuned_2806_130246/validation/model_epoch004/validation_results.p\n",
      "2024-06-28 13:02:48,348: Epoch 4 average validation loss: 0.00002 -- Median validation metrics: avg_loss: 0.00002, NSE: -0.55184\n",
      "2024-06-28 13:02:48,349: Setting learning rate to 5e-06\n",
      "# Epoch 5: 100%|██████████| 8/8 [00:00<00:00, 21.89it/s, Loss: 0.0000]\n",
      "2024-06-28 13:02:48,717: Epoch 5 average loss: avg_loss: 0.00001, avg_total_loss: 0.00001\n",
      "# Validation: 100%|██████████| 1/1 [00:00<00:00, 12.52it/s]\n",
      "2024-06-28 13:02:48,803: Stored metrics at /home/spectre/Projects/ISSAI/Internship/aqua_rate/test_train_25_06_24/runs/cudalstm_531_basins_finetuned_2806_130246/validation/model_epoch005/validation_metrics.csv\n",
      "2024-06-28 13:02:48,804: Stored results at /home/spectre/Projects/ISSAI/Internship/aqua_rate/test_train_25_06_24/runs/cudalstm_531_basins_finetuned_2806_130246/validation/model_epoch005/validation_results.p\n",
      "2024-06-28 13:02:48,804: Epoch 5 average validation loss: 0.00002 -- Median validation metrics: avg_loss: 0.00002, NSE: -0.53449\n",
      "# Epoch 6: 100%|██████████| 8/8 [00:00<00:00, 20.18it/s, Loss: 0.0000]\n",
      "2024-06-28 13:02:49,204: Epoch 6 average loss: avg_loss: 0.00001, avg_total_loss: 0.00001\n",
      "# Validation: 100%|██████████| 1/1 [00:00<00:00, 12.68it/s]\n",
      "2024-06-28 13:02:49,290: Stored metrics at /home/spectre/Projects/ISSAI/Internship/aqua_rate/test_train_25_06_24/runs/cudalstm_531_basins_finetuned_2806_130246/validation/model_epoch006/validation_metrics.csv\n",
      "2024-06-28 13:02:49,291: Stored results at /home/spectre/Projects/ISSAI/Internship/aqua_rate/test_train_25_06_24/runs/cudalstm_531_basins_finetuned_2806_130246/validation/model_epoch006/validation_results.p\n",
      "2024-06-28 13:02:49,291: Epoch 6 average validation loss: 0.00002 -- Median validation metrics: avg_loss: 0.00002, NSE: -0.52826\n",
      "# Epoch 7: 100%|██████████| 8/8 [00:00<00:00, 19.40it/s, Loss: 0.0000]\n",
      "2024-06-28 13:02:49,706: Epoch 7 average loss: avg_loss: 0.00000, avg_total_loss: 0.00000\n",
      "# Validation: 100%|██████████| 1/1 [00:00<00:00, 13.12it/s]\n",
      "2024-06-28 13:02:49,789: Stored metrics at /home/spectre/Projects/ISSAI/Internship/aqua_rate/test_train_25_06_24/runs/cudalstm_531_basins_finetuned_2806_130246/validation/model_epoch007/validation_metrics.csv\n",
      "2024-06-28 13:02:49,790: Stored results at /home/spectre/Projects/ISSAI/Internship/aqua_rate/test_train_25_06_24/runs/cudalstm_531_basins_finetuned_2806_130246/validation/model_epoch007/validation_results.p\n",
      "2024-06-28 13:02:49,791: Epoch 7 average validation loss: 0.00002 -- Median validation metrics: avg_loss: 0.00002, NSE: -0.54162\n",
      "# Epoch 8: 100%|██████████| 8/8 [00:00<00:00, 19.99it/s, Loss: 0.0000]\n",
      "2024-06-28 13:02:50,193: Epoch 8 average loss: avg_loss: 0.00000, avg_total_loss: 0.00000\n",
      "# Validation: 100%|██████████| 1/1 [00:00<00:00, 11.78it/s]\n",
      "2024-06-28 13:02:50,284: Stored metrics at /home/spectre/Projects/ISSAI/Internship/aqua_rate/test_train_25_06_24/runs/cudalstm_531_basins_finetuned_2806_130246/validation/model_epoch008/validation_metrics.csv\n",
      "2024-06-28 13:02:50,285: Stored results at /home/spectre/Projects/ISSAI/Internship/aqua_rate/test_train_25_06_24/runs/cudalstm_531_basins_finetuned_2806_130246/validation/model_epoch008/validation_results.p\n",
      "2024-06-28 13:02:50,286: Epoch 8 average validation loss: 0.00002 -- Median validation metrics: avg_loss: 0.00002, NSE: -0.55532\n",
      "# Epoch 9: 100%|██████████| 8/8 [00:00<00:00, 20.29it/s, Loss: 0.0000]\n",
      "2024-06-28 13:02:50,682: Epoch 9 average loss: avg_loss: 0.00000, avg_total_loss: 0.00000\n",
      "# Validation: 100%|██████████| 1/1 [00:00<00:00, 13.07it/s]\n",
      "2024-06-28 13:02:50,764: Stored metrics at /home/spectre/Projects/ISSAI/Internship/aqua_rate/test_train_25_06_24/runs/cudalstm_531_basins_finetuned_2806_130246/validation/model_epoch009/validation_metrics.csv\n",
      "2024-06-28 13:02:50,765: Stored results at /home/spectre/Projects/ISSAI/Internship/aqua_rate/test_train_25_06_24/runs/cudalstm_531_basins_finetuned_2806_130246/validation/model_epoch009/validation_results.p\n",
      "2024-06-28 13:02:50,766: Epoch 9 average validation loss: 0.00002 -- Median validation metrics: avg_loss: 0.00002, NSE: -0.58139\n",
      "# Epoch 10: 100%|██████████| 8/8 [00:00<00:00, 21.86it/s, Loss: 0.0000]\n",
      "2024-06-28 13:02:51,134: Epoch 10 average loss: avg_loss: 0.00000, avg_total_loss: 0.00000\n",
      "# Validation: 100%|██████████| 1/1 [00:00<00:00, 12.45it/s]\n",
      "2024-06-28 13:02:51,221: Stored metrics at /home/spectre/Projects/ISSAI/Internship/aqua_rate/test_train_25_06_24/runs/cudalstm_531_basins_finetuned_2806_130246/validation/model_epoch010/validation_metrics.csv\n",
      "2024-06-28 13:02:51,222: Stored results at /home/spectre/Projects/ISSAI/Internship/aqua_rate/test_train_25_06_24/runs/cudalstm_531_basins_finetuned_2806_130246/validation/model_epoch010/validation_results.p\n",
      "2024-06-28 13:02:51,222: Epoch 10 average validation loss: 0.00002 -- Median validation metrics: avg_loss: 0.00002, NSE: -0.59620\n",
      "# Epoch 11: 100%|██████████| 8/8 [00:00<00:00, 21.55it/s, Loss: 0.0000]\n",
      "2024-06-28 13:02:51,596: Epoch 11 average loss: avg_loss: 0.00000, avg_total_loss: 0.00000\n",
      "# Validation: 100%|██████████| 1/1 [00:00<00:00, 12.77it/s]\n",
      "2024-06-28 13:02:51,680: Stored metrics at /home/spectre/Projects/ISSAI/Internship/aqua_rate/test_train_25_06_24/runs/cudalstm_531_basins_finetuned_2806_130246/validation/model_epoch011/validation_metrics.csv\n",
      "2024-06-28 13:02:51,681: Stored results at /home/spectre/Projects/ISSAI/Internship/aqua_rate/test_train_25_06_24/runs/cudalstm_531_basins_finetuned_2806_130246/validation/model_epoch011/validation_results.p\n",
      "2024-06-28 13:02:51,682: Epoch 11 average validation loss: 0.00002 -- Median validation metrics: avg_loss: 0.00002, NSE: -0.60554\n",
      "# Epoch 12: 100%|██████████| 8/8 [00:00<00:00, 21.28it/s, Loss: 0.0000]\n",
      "2024-06-28 13:02:52,060: Epoch 12 average loss: avg_loss: 0.00001, avg_total_loss: 0.00001\n",
      "# Validation: 100%|██████████| 1/1 [00:00<00:00, 12.30it/s]\n",
      "2024-06-28 13:02:52,148: Stored metrics at /home/spectre/Projects/ISSAI/Internship/aqua_rate/test_train_25_06_24/runs/cudalstm_531_basins_finetuned_2806_130246/validation/model_epoch012/validation_metrics.csv\n",
      "2024-06-28 13:02:52,149: Stored results at /home/spectre/Projects/ISSAI/Internship/aqua_rate/test_train_25_06_24/runs/cudalstm_531_basins_finetuned_2806_130246/validation/model_epoch012/validation_results.p\n",
      "2024-06-28 13:02:52,150: Epoch 12 average validation loss: 0.00002 -- Median validation metrics: avg_loss: 0.00002, NSE: -0.60924\n",
      "# Epoch 13: 100%|██████████| 8/8 [00:00<00:00, 19.79it/s, Loss: 0.0000]\n",
      "2024-06-28 13:02:52,556: Epoch 13 average loss: avg_loss: 0.00000, avg_total_loss: 0.00000\n",
      "# Validation: 100%|██████████| 1/1 [00:00<00:00, 12.58it/s]\n",
      "2024-06-28 13:02:52,642: Stored metrics at /home/spectre/Projects/ISSAI/Internship/aqua_rate/test_train_25_06_24/runs/cudalstm_531_basins_finetuned_2806_130246/validation/model_epoch013/validation_metrics.csv\n",
      "2024-06-28 13:02:52,643: Stored results at /home/spectre/Projects/ISSAI/Internship/aqua_rate/test_train_25_06_24/runs/cudalstm_531_basins_finetuned_2806_130246/validation/model_epoch013/validation_results.p\n",
      "2024-06-28 13:02:52,644: Epoch 13 average validation loss: 0.00002 -- Median validation metrics: avg_loss: 0.00002, NSE: -0.60687\n",
      "# Epoch 14: 100%|██████████| 8/8 [00:00<00:00, 20.14it/s, Loss: 0.0000]\n",
      "2024-06-28 13:02:53,044: Epoch 14 average loss: avg_loss: 0.00000, avg_total_loss: 0.00000\n",
      "# Validation: 100%|██████████| 1/1 [00:00<00:00, 12.44it/s]\n",
      "2024-06-28 13:02:53,131: Stored metrics at /home/spectre/Projects/ISSAI/Internship/aqua_rate/test_train_25_06_24/runs/cudalstm_531_basins_finetuned_2806_130246/validation/model_epoch014/validation_metrics.csv\n",
      "2024-06-28 13:02:53,132: Stored results at /home/spectre/Projects/ISSAI/Internship/aqua_rate/test_train_25_06_24/runs/cudalstm_531_basins_finetuned_2806_130246/validation/model_epoch014/validation_results.p\n",
      "2024-06-28 13:02:53,132: Epoch 14 average validation loss: 0.00002 -- Median validation metrics: avg_loss: 0.00002, NSE: -0.60963\n",
      "# Epoch 15: 100%|██████████| 8/8 [00:00<00:00, 19.92it/s, Loss: 0.0000]\n",
      "2024-06-28 13:02:53,537: Epoch 15 average loss: avg_loss: 0.00001, avg_total_loss: 0.00001\n",
      "# Validation: 100%|██████████| 1/1 [00:00<00:00, 12.84it/s]\n",
      "2024-06-28 13:02:53,620: Stored metrics at /home/spectre/Projects/ISSAI/Internship/aqua_rate/test_train_25_06_24/runs/cudalstm_531_basins_finetuned_2806_130246/validation/model_epoch015/validation_metrics.csv\n",
      "2024-06-28 13:02:53,621: Stored results at /home/spectre/Projects/ISSAI/Internship/aqua_rate/test_train_25_06_24/runs/cudalstm_531_basins_finetuned_2806_130246/validation/model_epoch015/validation_results.p\n",
      "2024-06-28 13:02:53,622: Epoch 15 average validation loss: 0.00002 -- Median validation metrics: avg_loss: 0.00002, NSE: -0.60990\n",
      "# Epoch 16: 100%|██████████| 8/8 [00:00<00:00, 20.57it/s, Loss: 0.0000]\n",
      "2024-06-28 13:02:54,013: Epoch 16 average loss: avg_loss: 0.00000, avg_total_loss: 0.00000\n",
      "# Validation: 100%|██████████| 1/1 [00:00<00:00, 12.82it/s]\n",
      "2024-06-28 13:02:54,097: Stored metrics at /home/spectre/Projects/ISSAI/Internship/aqua_rate/test_train_25_06_24/runs/cudalstm_531_basins_finetuned_2806_130246/validation/model_epoch016/validation_metrics.csv\n",
      "2024-06-28 13:02:54,098: Stored results at /home/spectre/Projects/ISSAI/Internship/aqua_rate/test_train_25_06_24/runs/cudalstm_531_basins_finetuned_2806_130246/validation/model_epoch016/validation_results.p\n",
      "2024-06-28 13:02:54,099: Epoch 16 average validation loss: 0.00002 -- Median validation metrics: avg_loss: 0.00002, NSE: -0.63201\n",
      "# Epoch 17: 100%|██████████| 8/8 [00:00<00:00, 20.34it/s, Loss: 0.0000]\n",
      "2024-06-28 13:02:54,495: Epoch 17 average loss: avg_loss: 0.00001, avg_total_loss: 0.00001\n",
      "# Validation: 100%|██████████| 1/1 [00:00<00:00, 12.38it/s]\n",
      "2024-06-28 13:02:54,582: Stored metrics at /home/spectre/Projects/ISSAI/Internship/aqua_rate/test_train_25_06_24/runs/cudalstm_531_basins_finetuned_2806_130246/validation/model_epoch017/validation_metrics.csv\n",
      "2024-06-28 13:02:54,583: Stored results at /home/spectre/Projects/ISSAI/Internship/aqua_rate/test_train_25_06_24/runs/cudalstm_531_basins_finetuned_2806_130246/validation/model_epoch017/validation_results.p\n",
      "2024-06-28 13:02:54,583: Epoch 17 average validation loss: 0.00002 -- Median validation metrics: avg_loss: 0.00002, NSE: -0.65260\n",
      "# Epoch 18: 100%|██████████| 8/8 [00:00<00:00, 20.53it/s, Loss: 0.0000]\n",
      "2024-06-28 13:02:54,976: Epoch 18 average loss: avg_loss: 0.00001, avg_total_loss: 0.00001\n",
      "# Validation: 100%|██████████| 1/1 [00:00<00:00, 12.50it/s]\n",
      "2024-06-28 13:02:55,064: Stored metrics at /home/spectre/Projects/ISSAI/Internship/aqua_rate/test_train_25_06_24/runs/cudalstm_531_basins_finetuned_2806_130246/validation/model_epoch018/validation_metrics.csv\n",
      "2024-06-28 13:02:55,065: Stored results at /home/spectre/Projects/ISSAI/Internship/aqua_rate/test_train_25_06_24/runs/cudalstm_531_basins_finetuned_2806_130246/validation/model_epoch018/validation_results.p\n",
      "2024-06-28 13:02:55,066: Epoch 18 average validation loss: 0.00002 -- Median validation metrics: avg_loss: 0.00002, NSE: -0.66760\n",
      "# Epoch 19: 100%|██████████| 8/8 [00:00<00:00, 21.34it/s, Loss: 0.0000]\n",
      "2024-06-28 13:02:55,443: Epoch 19 average loss: avg_loss: 0.00000, avg_total_loss: 0.00000\n",
      "# Validation: 100%|██████████| 1/1 [00:00<00:00, 12.72it/s]\n",
      "2024-06-28 13:02:55,529: Stored metrics at /home/spectre/Projects/ISSAI/Internship/aqua_rate/test_train_25_06_24/runs/cudalstm_531_basins_finetuned_2806_130246/validation/model_epoch019/validation_metrics.csv\n",
      "2024-06-28 13:02:55,530: Stored results at /home/spectre/Projects/ISSAI/Internship/aqua_rate/test_train_25_06_24/runs/cudalstm_531_basins_finetuned_2806_130246/validation/model_epoch019/validation_results.p\n",
      "2024-06-28 13:02:55,530: Epoch 19 average validation loss: 0.00002 -- Median validation metrics: avg_loss: 0.00002, NSE: -0.67301\n",
      "# Epoch 20: 100%|██████████| 8/8 [00:00<00:00, 21.50it/s, Loss: 0.0000]\n",
      "2024-06-28 13:02:55,905: Epoch 20 average loss: avg_loss: 0.00001, avg_total_loss: 0.00001\n",
      "# Validation: 100%|██████████| 1/1 [00:00<00:00, 12.78it/s]\n",
      "2024-06-28 13:02:55,990: Stored metrics at /home/spectre/Projects/ISSAI/Internship/aqua_rate/test_train_25_06_24/runs/cudalstm_531_basins_finetuned_2806_130246/validation/model_epoch020/validation_metrics.csv\n",
      "2024-06-28 13:02:55,991: Stored results at /home/spectre/Projects/ISSAI/Internship/aqua_rate/test_train_25_06_24/runs/cudalstm_531_basins_finetuned_2806_130246/validation/model_epoch020/validation_results.p\n",
      "2024-06-28 13:02:55,992: Epoch 20 average validation loss: 0.00002 -- Median validation metrics: avg_loss: 0.00002, NSE: -0.66646\n",
      "# Epoch 21: 100%|██████████| 8/8 [00:00<00:00, 20.35it/s, Loss: 0.0000]\n",
      "2024-06-28 13:02:56,388: Epoch 21 average loss: avg_loss: 0.00001, avg_total_loss: 0.00001\n",
      "# Validation: 100%|██████████| 1/1 [00:00<00:00, 12.41it/s]\n",
      "2024-06-28 13:02:56,475: Stored metrics at /home/spectre/Projects/ISSAI/Internship/aqua_rate/test_train_25_06_24/runs/cudalstm_531_basins_finetuned_2806_130246/validation/model_epoch021/validation_metrics.csv\n",
      "2024-06-28 13:02:56,476: Stored results at /home/spectre/Projects/ISSAI/Internship/aqua_rate/test_train_25_06_24/runs/cudalstm_531_basins_finetuned_2806_130246/validation/model_epoch021/validation_results.p\n",
      "2024-06-28 13:02:56,477: Epoch 21 average validation loss: 0.00002 -- Median validation metrics: avg_loss: 0.00002, NSE: -0.67194\n",
      "# Epoch 22: 100%|██████████| 8/8 [00:00<00:00, 18.94it/s, Loss: 0.0000]\n",
      "2024-06-28 13:02:56,902: Epoch 22 average loss: avg_loss: 0.00001, avg_total_loss: 0.00001\n",
      "# Validation: 100%|██████████| 1/1 [00:00<00:00, 12.43it/s]\n",
      "2024-06-28 13:02:56,988: Stored metrics at /home/spectre/Projects/ISSAI/Internship/aqua_rate/test_train_25_06_24/runs/cudalstm_531_basins_finetuned_2806_130246/validation/model_epoch022/validation_metrics.csv\n",
      "2024-06-28 13:02:56,989: Stored results at /home/spectre/Projects/ISSAI/Internship/aqua_rate/test_train_25_06_24/runs/cudalstm_531_basins_finetuned_2806_130246/validation/model_epoch022/validation_results.p\n",
      "2024-06-28 13:02:56,990: Epoch 22 average validation loss: 0.00002 -- Median validation metrics: avg_loss: 0.00002, NSE: -0.69615\n",
      "# Epoch 23: 100%|██████████| 8/8 [00:00<00:00, 20.89it/s, Loss: 0.0000]\n",
      "2024-06-28 13:02:57,376: Epoch 23 average loss: avg_loss: 0.00000, avg_total_loss: 0.00000\n",
      "# Validation: 100%|██████████| 1/1 [00:00<00:00, 12.92it/s]\n",
      "2024-06-28 13:02:57,459: Stored metrics at /home/spectre/Projects/ISSAI/Internship/aqua_rate/test_train_25_06_24/runs/cudalstm_531_basins_finetuned_2806_130246/validation/model_epoch023/validation_metrics.csv\n",
      "2024-06-28 13:02:57,459: Stored results at /home/spectre/Projects/ISSAI/Internship/aqua_rate/test_train_25_06_24/runs/cudalstm_531_basins_finetuned_2806_130246/validation/model_epoch023/validation_results.p\n",
      "2024-06-28 13:02:57,460: Epoch 23 average validation loss: 0.00002 -- Median validation metrics: avg_loss: 0.00002, NSE: -0.71012\n",
      "# Epoch 24: 100%|██████████| 8/8 [00:00<00:00, 20.38it/s, Loss: 0.0000]\n",
      "2024-06-28 13:02:57,856: Epoch 24 average loss: avg_loss: 0.00001, avg_total_loss: 0.00001\n",
      "# Validation: 100%|██████████| 1/1 [00:00<00:00, 12.31it/s]\n",
      "2024-06-28 13:02:57,944: Stored metrics at /home/spectre/Projects/ISSAI/Internship/aqua_rate/test_train_25_06_24/runs/cudalstm_531_basins_finetuned_2806_130246/validation/model_epoch024/validation_metrics.csv\n",
      "2024-06-28 13:02:57,945: Stored results at /home/spectre/Projects/ISSAI/Internship/aqua_rate/test_train_25_06_24/runs/cudalstm_531_basins_finetuned_2806_130246/validation/model_epoch024/validation_results.p\n",
      "2024-06-28 13:02:57,945: Epoch 24 average validation loss: 0.00002 -- Median validation metrics: avg_loss: 0.00002, NSE: -0.72868\n",
      "# Epoch 25: 100%|██████████| 8/8 [00:00<00:00, 20.62it/s, Loss: 0.0000]\n",
      "2024-06-28 13:02:58,336: Epoch 25 average loss: avg_loss: 0.00000, avg_total_loss: 0.00000\n",
      "# Validation: 100%|██████████| 1/1 [00:00<00:00, 12.98it/s]\n",
      "2024-06-28 13:02:58,418: Stored metrics at /home/spectre/Projects/ISSAI/Internship/aqua_rate/test_train_25_06_24/runs/cudalstm_531_basins_finetuned_2806_130246/validation/model_epoch025/validation_metrics.csv\n",
      "2024-06-28 13:02:58,419: Stored results at /home/spectre/Projects/ISSAI/Internship/aqua_rate/test_train_25_06_24/runs/cudalstm_531_basins_finetuned_2806_130246/validation/model_epoch025/validation_results.p\n",
      "2024-06-28 13:02:58,419: Epoch 25 average validation loss: 0.00002 -- Median validation metrics: avg_loss: 0.00002, NSE: -0.73992\n",
      "# Epoch 26: 100%|██████████| 8/8 [00:00<00:00, 20.62it/s, Loss: 0.0000]\n",
      "2024-06-28 13:02:58,809: Epoch 26 average loss: avg_loss: 0.00000, avg_total_loss: 0.00000\n",
      "# Validation: 100%|██████████| 1/1 [00:00<00:00, 12.74it/s]\n",
      "2024-06-28 13:02:58,893: Stored metrics at /home/spectre/Projects/ISSAI/Internship/aqua_rate/test_train_25_06_24/runs/cudalstm_531_basins_finetuned_2806_130246/validation/model_epoch026/validation_metrics.csv\n",
      "2024-06-28 13:02:58,894: Stored results at /home/spectre/Projects/ISSAI/Internship/aqua_rate/test_train_25_06_24/runs/cudalstm_531_basins_finetuned_2806_130246/validation/model_epoch026/validation_results.p\n",
      "2024-06-28 13:02:58,895: Epoch 26 average validation loss: 0.00002 -- Median validation metrics: avg_loss: 0.00002, NSE: -0.75472\n",
      "# Epoch 27: 100%|██████████| 8/8 [00:00<00:00, 21.30it/s, Loss: 0.0000]\n",
      "2024-06-28 13:02:59,273: Epoch 27 average loss: avg_loss: 0.00001, avg_total_loss: 0.00001\n",
      "# Validation: 100%|██████████| 1/1 [00:00<00:00, 12.81it/s]\n",
      "2024-06-28 13:02:59,357: Stored metrics at /home/spectre/Projects/ISSAI/Internship/aqua_rate/test_train_25_06_24/runs/cudalstm_531_basins_finetuned_2806_130246/validation/model_epoch027/validation_metrics.csv\n",
      "2024-06-28 13:02:59,358: Stored results at /home/spectre/Projects/ISSAI/Internship/aqua_rate/test_train_25_06_24/runs/cudalstm_531_basins_finetuned_2806_130246/validation/model_epoch027/validation_results.p\n",
      "2024-06-28 13:02:59,359: Epoch 27 average validation loss: 0.00002 -- Median validation metrics: avg_loss: 0.00002, NSE: -0.75815\n",
      "# Epoch 28: 100%|██████████| 8/8 [00:00<00:00, 21.62it/s, Loss: 0.0000]\n",
      "2024-06-28 13:02:59,731: Epoch 28 average loss: avg_loss: 0.00000, avg_total_loss: 0.00000\n",
      "# Validation: 100%|██████████| 1/1 [00:00<00:00, 11.18it/s]\n",
      "2024-06-28 13:02:59,826: Stored metrics at /home/spectre/Projects/ISSAI/Internship/aqua_rate/test_train_25_06_24/runs/cudalstm_531_basins_finetuned_2806_130246/validation/model_epoch028/validation_metrics.csv\n",
      "2024-06-28 13:02:59,827: Stored results at /home/spectre/Projects/ISSAI/Internship/aqua_rate/test_train_25_06_24/runs/cudalstm_531_basins_finetuned_2806_130246/validation/model_epoch028/validation_results.p\n",
      "2024-06-28 13:02:59,828: Epoch 28 average validation loss: 0.00002 -- Median validation metrics: avg_loss: 0.00002, NSE: -0.75407\n",
      "# Epoch 29: 100%|██████████| 8/8 [00:00<00:00, 21.89it/s, Loss: 0.0000]\n",
      "2024-06-28 13:03:00,196: Epoch 29 average loss: avg_loss: 0.00000, avg_total_loss: 0.00000\n",
      "# Validation: 100%|██████████| 1/1 [00:00<00:00, 12.80it/s]\n",
      "2024-06-28 13:03:00,280: Stored metrics at /home/spectre/Projects/ISSAI/Internship/aqua_rate/test_train_25_06_24/runs/cudalstm_531_basins_finetuned_2806_130246/validation/model_epoch029/validation_metrics.csv\n",
      "2024-06-28 13:03:00,281: Stored results at /home/spectre/Projects/ISSAI/Internship/aqua_rate/test_train_25_06_24/runs/cudalstm_531_basins_finetuned_2806_130246/validation/model_epoch029/validation_results.p\n",
      "2024-06-28 13:03:00,282: Epoch 29 average validation loss: 0.00002 -- Median validation metrics: avg_loss: 0.00002, NSE: -0.74936\n",
      "# Epoch 30: 100%|██████████| 8/8 [00:00<00:00, 21.39it/s, Loss: 0.0000]\n",
      "2024-06-28 13:03:00,659: Epoch 30 average loss: avg_loss: 0.00000, avg_total_loss: 0.00000\n",
      "# Validation: 100%|██████████| 1/1 [00:00<00:00, 12.52it/s]\n",
      "2024-06-28 13:03:00,745: Stored metrics at /home/spectre/Projects/ISSAI/Internship/aqua_rate/test_train_25_06_24/runs/cudalstm_531_basins_finetuned_2806_130246/validation/model_epoch030/validation_metrics.csv\n",
      "2024-06-28 13:03:00,746: Stored results at /home/spectre/Projects/ISSAI/Internship/aqua_rate/test_train_25_06_24/runs/cudalstm_531_basins_finetuned_2806_130246/validation/model_epoch030/validation_results.p\n",
      "2024-06-28 13:03:00,747: Epoch 30 average validation loss: 0.00002 -- Median validation metrics: avg_loss: 0.00002, NSE: -0.75667\n",
      "# Epoch 31:  88%|████████▊ | 7/8 [00:00<00:00, 18.71it/s, Loss: 0.0000]\n"
     ]
    },
    {
     "ename": "KeyboardInterrupt",
     "evalue": "",
     "output_type": "error",
     "traceback": [
      "\u001b[0;31m---------------------------------------------------------------------------\u001b[0m",
      "\u001b[0;31mKeyboardInterrupt\u001b[0m                         Traceback (most recent call last)",
      "Cell \u001b[0;32mIn[24], line 1\u001b[0m\n\u001b[0;32m----> 1\u001b[0m \u001b[43mfinetune\u001b[49m\u001b[43m(\u001b[49m\u001b[43mPath\u001b[49m\u001b[43m(\u001b[49m\u001b[38;5;124;43m\"\u001b[39;49m\u001b[38;5;124;43mfinetune.yml\u001b[39;49m\u001b[38;5;124;43m\"\u001b[39;49m\u001b[43m)\u001b[49m\u001b[43m)\u001b[49m\n",
      "File \u001b[0;32m~/Projects/ISSAI/Internship/aqua_rate/.venv/lib/python3.10/site-packages/neuralhydrology/nh_run.py:143\u001b[0m, in \u001b[0;36mfinetune\u001b[0;34m(config_file, gpu)\u001b[0m\n\u001b[1;32m    140\u001b[0m \u001b[38;5;28;01mif\u001b[39;00m gpu \u001b[38;5;129;01mis\u001b[39;00m \u001b[38;5;129;01mnot\u001b[39;00m \u001b[38;5;28;01mNone\u001b[39;00m \u001b[38;5;129;01mand\u001b[39;00m gpu \u001b[38;5;241m<\u001b[39m \u001b[38;5;241m0\u001b[39m:\n\u001b[1;32m    141\u001b[0m     config\u001b[38;5;241m.\u001b[39mdevice \u001b[38;5;241m=\u001b[39m \u001b[38;5;124m\"\u001b[39m\u001b[38;5;124mcpu\u001b[39m\u001b[38;5;124m\"\u001b[39m\n\u001b[0;32m--> 143\u001b[0m \u001b[43mstart_training\u001b[49m\u001b[43m(\u001b[49m\u001b[43mconfig\u001b[49m\u001b[43m)\u001b[49m\n",
      "File \u001b[0;32m~/Projects/ISSAI/Internship/aqua_rate/.venv/lib/python3.10/site-packages/neuralhydrology/training/train.py:20\u001b[0m, in \u001b[0;36mstart_training\u001b[0;34m(cfg)\u001b[0m\n\u001b[1;32m     18\u001b[0m     \u001b[38;5;28;01mraise\u001b[39;00m \u001b[38;5;167;01mValueError\u001b[39;00m(\u001b[38;5;124mf\u001b[39m\u001b[38;5;124m\"\u001b[39m\u001b[38;5;124mUnknown head \u001b[39m\u001b[38;5;132;01m{\u001b[39;00mcfg\u001b[38;5;241m.\u001b[39mhead\u001b[38;5;132;01m}\u001b[39;00m\u001b[38;5;124m.\u001b[39m\u001b[38;5;124m\"\u001b[39m)\n\u001b[1;32m     19\u001b[0m trainer\u001b[38;5;241m.\u001b[39minitialize_training()\n\u001b[0;32m---> 20\u001b[0m \u001b[43mtrainer\u001b[49m\u001b[38;5;241;43m.\u001b[39;49m\u001b[43mtrain_and_validate\u001b[49m\u001b[43m(\u001b[49m\u001b[43m)\u001b[49m\n",
      "File \u001b[0;32m~/Projects/ISSAI/Internship/aqua_rate/.venv/lib/python3.10/site-packages/neuralhydrology/training/basetrainer.py:214\u001b[0m, in \u001b[0;36mBaseTrainer.train_and_validate\u001b[0;34m(self)\u001b[0m\n\u001b[1;32m    211\u001b[0m     \u001b[38;5;28;01mfor\u001b[39;00m param_group \u001b[38;5;129;01min\u001b[39;00m \u001b[38;5;28mself\u001b[39m\u001b[38;5;241m.\u001b[39moptimizer\u001b[38;5;241m.\u001b[39mparam_groups:\n\u001b[1;32m    212\u001b[0m         param_group[\u001b[38;5;124m\"\u001b[39m\u001b[38;5;124mlr\u001b[39m\u001b[38;5;124m\"\u001b[39m] \u001b[38;5;241m=\u001b[39m \u001b[38;5;28mself\u001b[39m\u001b[38;5;241m.\u001b[39mcfg\u001b[38;5;241m.\u001b[39mlearning_rate[epoch]\n\u001b[0;32m--> 214\u001b[0m \u001b[38;5;28;43mself\u001b[39;49m\u001b[38;5;241;43m.\u001b[39;49m\u001b[43m_train_epoch\u001b[49m\u001b[43m(\u001b[49m\u001b[43mepoch\u001b[49m\u001b[38;5;241;43m=\u001b[39;49m\u001b[43mepoch\u001b[49m\u001b[43m)\u001b[49m\n\u001b[1;32m    215\u001b[0m avg_losses \u001b[38;5;241m=\u001b[39m \u001b[38;5;28mself\u001b[39m\u001b[38;5;241m.\u001b[39mexperiment_logger\u001b[38;5;241m.\u001b[39msummarise()\n\u001b[1;32m    216\u001b[0m loss_str \u001b[38;5;241m=\u001b[39m \u001b[38;5;124m\"\u001b[39m\u001b[38;5;124m, \u001b[39m\u001b[38;5;124m\"\u001b[39m\u001b[38;5;241m.\u001b[39mjoin(\u001b[38;5;124mf\u001b[39m\u001b[38;5;124m\"\u001b[39m\u001b[38;5;132;01m{\u001b[39;00mk\u001b[38;5;132;01m}\u001b[39;00m\u001b[38;5;124m: \u001b[39m\u001b[38;5;132;01m{\u001b[39;00mv\u001b[38;5;132;01m:\u001b[39;00m\u001b[38;5;124m.5f\u001b[39m\u001b[38;5;132;01m}\u001b[39;00m\u001b[38;5;124m\"\u001b[39m \u001b[38;5;28;01mfor\u001b[39;00m k, v \u001b[38;5;129;01min\u001b[39;00m avg_losses\u001b[38;5;241m.\u001b[39mitems())\n",
      "File \u001b[0;32m~/Projects/ISSAI/Internship/aqua_rate/.venv/lib/python3.10/site-packages/neuralhydrology/training/basetrainer.py:327\u001b[0m, in \u001b[0;36mBaseTrainer._train_epoch\u001b[0;34m(self, epoch)\u001b[0m\n\u001b[1;32m    324\u001b[0m     \u001b[38;5;66;03m# update weights\u001b[39;00m\n\u001b[1;32m    325\u001b[0m     \u001b[38;5;28mself\u001b[39m\u001b[38;5;241m.\u001b[39moptimizer\u001b[38;5;241m.\u001b[39mstep()\n\u001b[0;32m--> 327\u001b[0m pbar\u001b[38;5;241m.\u001b[39mset_postfix_str(\u001b[38;5;124mf\u001b[39m\u001b[38;5;124m\"\u001b[39m\u001b[38;5;124mLoss: \u001b[39m\u001b[38;5;132;01m{\u001b[39;00m\u001b[43mloss\u001b[49m\u001b[38;5;241;43m.\u001b[39;49m\u001b[43mitem\u001b[49m\u001b[43m(\u001b[49m\u001b[43m)\u001b[49m\u001b[38;5;132;01m:\u001b[39;00m\u001b[38;5;124m.4f\u001b[39m\u001b[38;5;132;01m}\u001b[39;00m\u001b[38;5;124m\"\u001b[39m)\n\u001b[1;32m    329\u001b[0m \u001b[38;5;28mself\u001b[39m\u001b[38;5;241m.\u001b[39mexperiment_logger\u001b[38;5;241m.\u001b[39mlog_step(\u001b[38;5;241m*\u001b[39m\u001b[38;5;241m*\u001b[39m{k: v\u001b[38;5;241m.\u001b[39mitem() \u001b[38;5;28;01mfor\u001b[39;00m k, v \u001b[38;5;129;01min\u001b[39;00m all_losses\u001b[38;5;241m.\u001b[39mitems()})\n",
      "\u001b[0;31mKeyboardInterrupt\u001b[0m: "
     ]
    }
   ],
   "source": [
    "finetune(Path(\"finetune.yml\"))"
   ]
  },
  {
   "cell_type": "markdown",
   "metadata": {},
   "source": [
    "Looking at the validation result, we can see an increase of roughly 0.05 NSE.\n",
    "\n",
    "Last but not least, we will compare the pre-trained and the finetuned model on the test period. For this, we will make use of the `eval_run` function from `neuralhydrolgy.nh_run`. Alternatively, you could evaluate both runs from the command line by calling\n",
    "\n",
    "```bash\n",
    "nh-run evaluate --run-dir /path/to/run_directory/\n",
    "```"
   ]
  },
  {
   "cell_type": "code",
   "execution_count": 17,
   "metadata": {},
   "outputs": [
    {
     "name": "stdout",
     "output_type": "stream",
     "text": [
      "2024-06-28 13:00:25,455: Using the model weights from runs/cudalstm_531_basins_2806_124648/model_epoch028.pt\n"
     ]
    },
    {
     "name": "stdout",
     "output_type": "stream",
     "text": [
      "# Evaluation:  10%|▉         | 4/42 [00:00<00:04,  9.25it/s]2024-06-28 13:00:25,924: The following basins had not enough valid target values to calculate a standard deviation: 11163. NSE loss values for this basin will be NaN.\n",
      "# Evaluation:  45%|████▌     | 19/42 [00:02<00:02,  9.36it/s]2024-06-28 13:00:27,803: The following basins had not enough valid target values to calculate a standard deviation: 13035. NSE loss values for this basin will be NaN.\n",
      "# Evaluation:  67%|██████▋   | 28/42 [00:03<00:01,  9.14it/s]2024-06-28 13:00:28,888: The following basins had not enough valid target values to calculate a standard deviation: 19013. NSE loss values for this basin will be NaN.\n",
      "# Evaluation: 100%|██████████| 42/42 [00:05<00:00,  8.28it/s]\n",
      "2024-06-28 13:00:30,540: Stored metrics at runs/cudalstm_531_basins_2806_124648/test/model_epoch028/test_metrics.csv\n",
      "2024-06-28 13:00:30,546: Stored results at runs/cudalstm_531_basins_2806_124648/test/model_epoch028/test_results.p\n"
     ]
    }
   ],
   "source": [
    "eval_run(run_dir, period=\"test\", epoch=28)"
   ]
  },
  {
   "cell_type": "markdown",
   "metadata": {},
   "source": [
    "Now we can call the `eval_run()` function as above, but pointing to the directory of the finetuned run. By default, this function evaluates the last checkpoint, which can be changed with the `epoch` argument. Here however, we use the default. Again, if you want to run this notebook locally, make sure to adapt the folder name of the finetune run."
   ]
  },
  {
   "cell_type": "code",
   "execution_count": 18,
   "metadata": {},
   "outputs": [
    {
     "name": "stdout",
     "output_type": "stream",
     "text": [
      "2024-06-28 13:00:32,694: Using the model weights from runs/cudalstm_531_basins_finetuned_2806_125858/model_epoch010.pt\n",
      "# Evaluation: 100%|██████████| 1/1 [00:00<00:00,  7.99it/s]\n",
      "2024-06-28 13:00:32,823: Stored metrics at runs/cudalstm_531_basins_finetuned_2806_125858/test/model_epoch010/test_metrics.csv\n",
      "2024-06-28 13:00:32,824: Stored results at runs/cudalstm_531_basins_finetuned_2806_125858/test/model_epoch010/test_results.p\n"
     ]
    }
   ],
   "source": [
    "finetune_dir = Path(f\"./runs/{sorted(os.listdir('./runs'))[-1]}\")\n",
    "eval_run(finetune_dir, period=\"test\")"
   ]
  },
  {
   "cell_type": "markdown",
   "metadata": {},
   "source": [
    "Now let's look at the test period results of the pre-trained base model and the finetuned model for the basin that we chose above."
   ]
  },
  {
   "cell_type": "code",
   "execution_count": 19,
   "metadata": {},
   "outputs": [
    {
     "name": "stdout",
     "output_type": "stream",
     "text": [
      "Basin 77819 base model performance: 0.100\n",
      "Performance after finetuning: 0.098\n"
     ]
    }
   ],
   "source": [
    "# load test results of the base run\n",
    "df_pretrained = pd.read_csv(run_dir / \"test/model_epoch030/test_metrics.csv\", dtype={'basin': str})\n",
    "df_pretrained = df_pretrained.set_index(\"basin\")\n",
    "    \n",
    "# load test results of the finetuned model\n",
    "df_finetuned = pd.read_csv(finetune_dir / \"test/model_epoch010/test_metrics.csv\", dtype={'basin': str})\n",
    "df_finetuned = df_finetuned.set_index(\"basin\")\n",
    "    \n",
    "# extract basin performance\n",
    "base_model_nse = df_pretrained.loc[df_pretrained.index == basin, \"NSE\"].values[0]\n",
    "finetune_nse = df_finetuned.loc[df_finetuned.index == basin, \"NSE\"].values[0]\n",
    "print(f\"Basin {basin} base model performance: {base_model_nse:.3f}\")\n",
    "print(f\"Performance after finetuning: {finetune_nse:.3f}\")"
   ]
  },
  {
   "cell_type": "markdown",
   "metadata": {},
   "source": [
    "So we see roughly the same performance increase in the test period (slightly higher), which is great. However, note that a) our base model was not optimally trained (we stopped quite early) but also b) the finetuning settings were chosen rather randomly. From our experience so far, you can almost always get performance increases for individual basins with finetuning, but it is difficult to find settings that are universally applicable. However, this tutorial was just a showcase of how easy it actually is to finetune models with the NeuralHydrology library. Now it is up to you to experiment with it."
   ]
  }
 ],
 "metadata": {
  "interpreter": {
   "hash": "f06a3d735e79588c205b3c00d1109d1e91c6d37f901bb6d63171682e1f2fd309"
  },
  "kernelspec": {
   "display_name": "Python 3.7.9 64-bit ('neuralhydrology': conda)",
   "name": "python3"
  },
  "language_info": {
   "codemirror_mode": {
    "name": "ipython",
    "version": 3
   },
   "file_extension": ".py",
   "mimetype": "text/x-python",
   "name": "python",
   "nbconvert_exporter": "python",
   "pygments_lexer": "ipython3",
   "version": "3.10.12"
  }
 },
 "nbformat": 4,
 "nbformat_minor": 4
}
